{
 "cells": [
  {
   "cell_type": "code",
   "execution_count": 121,
   "metadata": {},
   "outputs": [
    {
     "name": "stderr",
     "output_type": "stream",
     "text": [
      "Using TensorFlow backend.\n"
     ]
    }
   ],
   "source": [
    "import os\n",
    "import cv2\n",
    "import numpy as np\n",
    "import sklearn as sk\n",
    "import keras\n",
    "from tqdm import tqdm\n",
    "import matplotlib.pyplot as plt\n",
    "import pandas as pd\n",
    "from sklearn.model_selection import train_test_split\n",
    "from sklearn import metrics\n",
    "from sklearn.metrics import confusion_matrix\n",
    "import tensorflow.keras.utils\n",
    "import imutils\n",
    "from tensorflow.keras.layers import Dense, Activation, Flatten, Dropout\n",
    "from tensorflow.keras.layers import Conv2D, MaxPooling2D\n",
    "import io\n",
    "import seaborn as sns\n",
    "import tensorflow as tf\n",
    "from tensorflow.keras.datasets import cifar10\n",
    "from tensorflow.keras.preprocessing.image import ImageDataGenerator\n",
    "from tensorflow.keras.models import Sequential\n",
    "from tensorflow.keras.layers import Dense, Dropout, Activation, Flatten"
   ]
  },
  {
   "cell_type": "code",
   "execution_count": null,
   "metadata": {},
   "outputs": [],
   "source": [
    "\n",
    "# 1\n",
    "# Do image rotation etc to increase training size\n"
   ]
  },
  {
   "cell_type": "code",
   "execution_count": 103,
   "metadata": {},
   "outputs": [],
   "source": [
    "categories = [\"One\", \"None\"]\n",
    "dataDirectory = \"../../../../HandsData/OpenCVHandsData/\"\n",
    "\n",
    "sizeX = 60\n",
    "sizeY = 100"
   ]
  },
  {
   "cell_type": "code",
   "execution_count": 104,
   "metadata": {},
   "outputs": [],
   "source": [
    "def resize(image):\n",
    "    \n",
    "    h, w, ch = image.shape\n",
    "    \n",
    "    zeros = np.zeros((sizeY, sizeX, 3))\n",
    "    \n",
    "    tempImage = image.copy()\n",
    "    \n",
    "    image = imutils.resize(tempImage, height=sizeY)\n",
    "    if image.shape[1] > sizeX:\n",
    "        image = imutils.resize(tempImage, width=sizeX)\n",
    "    \n",
    "    zeros[:image.shape[0], :image.shape[1]] = image\n",
    "    \n",
    "    #print()\n",
    "    \n",
    "    return zeros"
   ]
  },
  {
   "cell_type": "code",
   "execution_count": 105,
   "metadata": {},
   "outputs": [
    {
     "name": "stderr",
     "output_type": "stream",
     "text": [
      "100%|███████████████████████████████████████████████████████████████████████████████| 531/531 [00:02<00:00, 196.80it/s]\n",
      "100%|███████████████████████████████████████████████████████████████████████████████| 403/403 [00:01<00:00, 216.07it/s]\n"
     ]
    }
   ],
   "source": [
    "X = []\n",
    "y = []\n",
    "\n",
    "for category in categories:\n",
    "    \n",
    "    path = dataDirectory + category\n",
    "    \n",
    "    for image in tqdm(os.listdir(path)[::3]):\n",
    "        \n",
    "        image = cv2.imread(path + '/' + image)\n",
    "        \n",
    "        image = cv2.cvtColor(image, cv2.COLOR_BGR2RGB)\n",
    "        \n",
    "        image = resize(image)\n",
    "        \n",
    "        X.append(image)\n",
    "        y.append(categories.index(category))\n",
    "        "
   ]
  },
  {
   "cell_type": "code",
   "execution_count": 106,
   "metadata": {},
   "outputs": [
    {
     "data": {
      "image/png": "[encoded data removed]",
      "text/plain": [
       "<Figure size 432x288 with 1 Axes>"
      ]
     },
     "metadata": {
      "needs_background": "light"
     },
     "output_type": "display_data"
    }
   ],
   "source": [
    "plt.imshow(X[700].astype(np.uint8))\n",
    "plt.show()"
   ]
  },
  {
   "cell_type": "code",
   "execution_count": 107,
   "metadata": {},
   "outputs": [
    {
     "name": "stdout",
     "output_type": "stream",
     "text": [
      "(934, 100, 60, 3)\n",
      "[[1. 0.]\n",
      " [1. 0.]\n",
      " [1. 0.]\n",
      " ...\n",
      " [0. 1.]\n",
      " [0. 1.]\n",
      " [0. 1.]]\n"
     ]
    }
   ],
   "source": [
    "X = np.array(X)\n",
    "\n",
    "y = tf.keras.utils.to_categorical(np.asarray(y))\n",
    "\n",
    "print(X.shape)\n",
    "print(y)\n",
    "\n",
    "X = X.reshape(-1, sizeX, sizeY, 3)"
   ]
  },
  {
   "cell_type": "code",
   "execution_count": 108,
   "metadata": {},
   "outputs": [
    {
     "name": "stdout",
     "output_type": "stream",
     "text": [
      "[[1. 0.]\n",
      " [0. 1.]\n",
      " [0. 1.]\n",
      " ...\n",
      " [1. 0.]\n",
      " [0. 1.]\n",
      " [0. 1.]]\n",
      "[[78. 81. 74.]\n",
      " [78. 79. 73.]\n",
      " [79. 80. 74.]\n",
      " [79. 80. 74.]\n",
      " [78. 79. 73.]]\n"
     ]
    }
   ],
   "source": [
    "X_train, X_test, y_train, y_test = train_test_split(X, y, test_size=0.25, random_state=31)\n",
    "\n",
    "print(y_train)\n",
    "print(X_train[0][0][:5])"
   ]
  },
  {
   "cell_type": "code",
   "execution_count": 109,
   "metadata": {
    "scrolled": true
   },
   "outputs": [
    {
     "name": "stdout",
     "output_type": "stream",
     "text": [
      "Model: \"sequential_11\"\n",
      "_________________________________________________________________\n",
      "Layer (type)                 Output Shape              Param #   \n",
      "=================================================================\n",
      "conv2d_30 (Conv2D)           (None, 58, 98, 16)        448       \n",
      "_________________________________________________________________\n",
      "max_pooling2d_30 (MaxPooling (None, 29, 49, 16)        0         \n",
      "_________________________________________________________________\n",
      "dropout_40 (Dropout)         (None, 29, 49, 16)        0         \n",
      "_________________________________________________________________\n",
      "conv2d_31 (Conv2D)           (None, 27, 47, 32)        4640      \n",
      "_________________________________________________________________\n",
      "max_pooling2d_31 (MaxPooling (None, 13, 23, 32)        0         \n",
      "_________________________________________________________________\n",
      "dropout_41 (Dropout)         (None, 13, 23, 32)        0         \n",
      "_________________________________________________________________\n",
      "conv2d_32 (Conv2D)           (None, 11, 21, 64)        18496     \n",
      "_________________________________________________________________\n",
      "max_pooling2d_32 (MaxPooling (None, 5, 10, 64)         0         \n",
      "_________________________________________________________________\n",
      "dropout_42 (Dropout)         (None, 5, 10, 64)         0         \n",
      "_________________________________________________________________\n",
      "flatten_10 (Flatten)         (None, 3200)              0         \n",
      "_________________________________________________________________\n",
      "dense_30 (Dense)             (None, 256)               819456    \n",
      "_________________________________________________________________\n",
      "dropout_43 (Dropout)         (None, 256)               0         \n",
      "_________________________________________________________________\n",
      "dense_31 (Dense)             (None, 128)               32896     \n",
      "_________________________________________________________________\n",
      "dense_32 (Dense)             (None, 2)                 258       \n",
      "=================================================================\n",
      "Total params: 876,194\n",
      "Trainable params: 876,194\n",
      "Non-trainable params: 0\n",
      "_________________________________________________________________\n"
     ]
    }
   ],
   "source": [
    "model = Sequential()\n",
    "\n",
    "\n",
    "model.add(Conv2D(filters=16, kernel_size=(3, 3), activation='relu', input_shape=X.shape[1:]))\n",
    "model.add(MaxPooling2D())\n",
    "model.add(Dropout(0.5))\n",
    "\n",
    "model.add(Conv2D(filters=32, kernel_size=(3, 3), activation='relu'))\n",
    "model.add(MaxPooling2D())\n",
    "model.add(Dropout(0.5))\n",
    "\n",
    "model.add(Conv2D(filters=64, kernel_size=(3, 3), activation='relu'))\n",
    "model.add(MaxPooling2D())\n",
    "model.add(Dropout(0.5))\n",
    "\n",
    "model.add(Flatten())\n",
    "\n",
    "model.add(Dense(units=256, activation='relu'))\n",
    "model.add(Dropout(0.2))\n",
    "\n",
    "model.add(Dense(units=128, activation='relu'))\n",
    "\n",
    "model.add(Dense(units=2, activation = 'softmax'))\n",
    "\n",
    "model.compile(loss='categorical_crossentropy',\n",
    "              optimizer='adam',\n",
    "              metrics=['accuracy'])\n",
    "\n",
    "model.summary()\n",
    "\n",
    "#print(X_train, y_train)"
   ]
  },
  {
   "cell_type": "code",
   "execution_count": 112,
   "metadata": {},
   "outputs": [
    {
     "name": "stdout",
     "output_type": "stream",
     "text": [
      "(700, 60, 100, 3)\n",
      "(700, 2)\n"
     ]
    }
   ],
   "source": [
    "print(X_train.shape)\n",
    "print(y_train.shape)"
   ]
  },
  {
   "cell_type": "code",
   "execution_count": 113,
   "metadata": {},
   "outputs": [
    {
     "name": "stdout",
     "output_type": "stream",
     "text": [
      "Epoch 1/100\n",
      "22/22 - 1s - loss: 0.6747 - accuracy: 0.6286\n",
      "Epoch 2/100\n",
      "22/22 - 1s - loss: 0.6285 - accuracy: 0.6414\n",
      "Epoch 3/100\n",
      "22/22 - 1s - loss: 0.6388 - accuracy: 0.6343\n",
      "Epoch 4/100\n",
      "22/22 - 1s - loss: 0.6190 - accuracy: 0.6457\n",
      "Epoch 5/100\n",
      "22/22 - 1s - loss: 0.6542 - accuracy: 0.6357\n",
      "Epoch 6/100\n",
      "22/22 - 1s - loss: 0.6412 - accuracy: 0.6329\n",
      "Epoch 7/100\n",
      "22/22 - 1s - loss: 0.5997 - accuracy: 0.6857\n",
      "Epoch 8/100\n",
      "22/22 - 1s - loss: 0.6146 - accuracy: 0.6786\n",
      "Epoch 9/100\n",
      "22/22 - 1s - loss: 0.6145 - accuracy: 0.6629\n",
      "Epoch 10/100\n",
      "22/22 - 1s - loss: 0.5724 - accuracy: 0.7143\n",
      "Epoch 11/100\n",
      "22/22 - 1s - loss: 0.5783 - accuracy: 0.6943\n",
      "Epoch 12/100\n",
      "22/22 - 1s - loss: 0.5731 - accuracy: 0.7071\n",
      "Epoch 13/100\n",
      "22/22 - 1s - loss: 0.5620 - accuracy: 0.7114\n",
      "Epoch 14/100\n",
      "22/22 - 1s - loss: 0.5419 - accuracy: 0.7114\n",
      "Epoch 15/100\n",
      "22/22 - 1s - loss: 0.5247 - accuracy: 0.7114\n",
      "Epoch 16/100\n",
      "22/22 - 1s - loss: 0.5033 - accuracy: 0.7314\n",
      "Epoch 17/100\n",
      "22/22 - 1s - loss: 0.5037 - accuracy: 0.7300\n",
      "Epoch 18/100\n",
      "22/22 - 1s - loss: 0.4959 - accuracy: 0.7400\n",
      "Epoch 19/100\n",
      "22/22 - 1s - loss: 0.4675 - accuracy: 0.7600\n",
      "Epoch 20/100\n",
      "22/22 - 1s - loss: 0.4735 - accuracy: 0.7543\n",
      "Epoch 21/100\n",
      "22/22 - 1s - loss: 0.4284 - accuracy: 0.7829\n",
      "Epoch 22/100\n",
      "22/22 - 1s - loss: 0.4037 - accuracy: 0.7929\n",
      "Epoch 23/100\n",
      "22/22 - 1s - loss: 0.3688 - accuracy: 0.8214\n",
      "Epoch 24/100\n",
      "22/22 - 1s - loss: 0.3689 - accuracy: 0.8343\n",
      "Epoch 25/100\n",
      "22/22 - 1s - loss: 0.3746 - accuracy: 0.8229\n",
      "Epoch 26/100\n",
      "22/22 - 1s - loss: 0.3299 - accuracy: 0.8514\n",
      "Epoch 27/100\n",
      "22/22 - 1s - loss: 0.3466 - accuracy: 0.8414\n",
      "Epoch 28/100\n",
      "22/22 - 1s - loss: 0.3330 - accuracy: 0.8486\n",
      "Epoch 29/100\n",
      "22/22 - 1s - loss: 0.3069 - accuracy: 0.8600\n",
      "Epoch 30/100\n",
      "22/22 - 1s - loss: 0.3252 - accuracy: 0.8443\n",
      "Epoch 31/100\n",
      "22/22 - 1s - loss: 0.2907 - accuracy: 0.8857\n",
      "Epoch 32/100\n",
      "22/22 - 1s - loss: 0.2463 - accuracy: 0.9000\n",
      "Epoch 33/100\n",
      "22/22 - 1s - loss: 0.2848 - accuracy: 0.8814\n",
      "Epoch 34/100\n",
      "22/22 - 1s - loss: 0.2210 - accuracy: 0.9100\n",
      "Epoch 35/100\n",
      "22/22 - 1s - loss: 0.2337 - accuracy: 0.9129\n",
      "Epoch 36/100\n",
      "22/22 - 1s - loss: 0.2171 - accuracy: 0.9157\n",
      "Epoch 37/100\n",
      "22/22 - 1s - loss: 0.2118 - accuracy: 0.9243\n",
      "Epoch 38/100\n",
      "22/22 - 1s - loss: 0.2147 - accuracy: 0.9129\n",
      "Epoch 39/100\n",
      "22/22 - 1s - loss: 0.1943 - accuracy: 0.9129\n",
      "Epoch 40/100\n",
      "22/22 - 1s - loss: 0.1710 - accuracy: 0.9343\n",
      "Epoch 41/100\n",
      "22/22 - 1s - loss: 0.1841 - accuracy: 0.9300\n",
      "Epoch 42/100\n",
      "22/22 - 1s - loss: 0.1854 - accuracy: 0.9271\n",
      "Epoch 43/100\n",
      "22/22 - 1s - loss: 0.1676 - accuracy: 0.9343\n",
      "Epoch 44/100\n",
      "22/22 - 1s - loss: 0.1604 - accuracy: 0.9429\n",
      "Epoch 45/100\n",
      "22/22 - 1s - loss: 0.1420 - accuracy: 0.9414\n",
      "Epoch 46/100\n",
      "22/22 - 1s - loss: 0.1601 - accuracy: 0.9471\n",
      "Epoch 47/100\n",
      "22/22 - 1s - loss: 0.1428 - accuracy: 0.9471\n",
      "Epoch 48/100\n",
      "22/22 - 1s - loss: 0.1354 - accuracy: 0.9529\n",
      "Epoch 49/100\n",
      "22/22 - 1s - loss: 0.1378 - accuracy: 0.9586\n",
      "Epoch 50/100\n",
      "22/22 - 1s - loss: 0.1335 - accuracy: 0.9529\n",
      "Epoch 51/100\n",
      "22/22 - 1s - loss: 0.1278 - accuracy: 0.9371\n",
      "Epoch 52/100\n",
      "22/22 - 1s - loss: 0.1345 - accuracy: 0.9414\n",
      "Epoch 53/100\n",
      "22/22 - 1s - loss: 0.2144 - accuracy: 0.9157\n",
      "Epoch 54/100\n",
      "22/22 - 1s - loss: 0.1531 - accuracy: 0.9429\n",
      "Epoch 55/100\n",
      "22/22 - 1s - loss: 0.1878 - accuracy: 0.9200\n",
      "Epoch 56/100\n",
      "22/22 - 1s - loss: 0.1386 - accuracy: 0.9471\n",
      "Epoch 57/100\n",
      "22/22 - 1s - loss: 0.1473 - accuracy: 0.9543\n",
      "Epoch 58/100\n",
      "22/22 - 1s - loss: 0.1146 - accuracy: 0.9586\n",
      "Epoch 59/100\n",
      "22/22 - 1s - loss: 0.0892 - accuracy: 0.9657\n",
      "Epoch 60/100\n",
      "22/22 - 1s - loss: 0.1136 - accuracy: 0.9571\n",
      "Epoch 61/100\n",
      "22/22 - 1s - loss: 0.1069 - accuracy: 0.9629\n",
      "Epoch 62/100\n",
      "22/22 - 1s - loss: 0.0969 - accuracy: 0.9643\n",
      "Epoch 63/100\n",
      "22/22 - 1s - loss: 0.1268 - accuracy: 0.9614\n",
      "Epoch 64/100\n",
      "22/22 - 1s - loss: 0.0839 - accuracy: 0.9729\n",
      "Epoch 65/100\n",
      "22/22 - 1s - loss: 0.1255 - accuracy: 0.9586\n",
      "Epoch 66/100\n",
      "22/22 - 1s - loss: 0.1293 - accuracy: 0.9500\n",
      "Epoch 67/100\n",
      "22/22 - 1s - loss: 0.1166 - accuracy: 0.9557\n",
      "Epoch 68/100\n",
      "22/22 - 1s - loss: 0.0819 - accuracy: 0.9771\n",
      "Epoch 69/100\n",
      "22/22 - 1s - loss: 0.0937 - accuracy: 0.9671\n",
      "Epoch 70/100\n",
      "22/22 - 1s - loss: 0.0897 - accuracy: 0.9657\n",
      "Epoch 71/100\n",
      "22/22 - 1s - loss: 0.0781 - accuracy: 0.9657\n",
      "Epoch 72/100\n",
      "22/22 - 1s - loss: 0.0986 - accuracy: 0.9629\n",
      "Epoch 73/100\n",
      "22/22 - 1s - loss: 0.0850 - accuracy: 0.9714\n",
      "Epoch 74/100\n",
      "22/22 - 1s - loss: 0.1129 - accuracy: 0.9600\n",
      "Epoch 75/100\n",
      "22/22 - 1s - loss: 0.0826 - accuracy: 0.9643\n",
      "Epoch 76/100\n",
      "22/22 - 1s - loss: 0.0736 - accuracy: 0.9743\n",
      "Epoch 77/100\n",
      "22/22 - 1s - loss: 0.0936 - accuracy: 0.9643\n",
      "Epoch 78/100\n",
      "22/22 - 1s - loss: 0.1112 - accuracy: 0.9586\n",
      "Epoch 79/100\n",
      "22/22 - 1s - loss: 0.0909 - accuracy: 0.9614\n",
      "Epoch 80/100\n",
      "22/22 - 1s - loss: 0.0918 - accuracy: 0.9700\n",
      "Epoch 81/100\n",
      "22/22 - 1s - loss: 0.0640 - accuracy: 0.9771\n",
      "Epoch 82/100\n",
      "22/22 - 1s - loss: 0.0697 - accuracy: 0.9743\n",
      "Epoch 83/100\n",
      "22/22 - 1s - loss: 0.1054 - accuracy: 0.9629\n",
      "Epoch 84/100\n",
      "22/22 - 1s - loss: 0.0938 - accuracy: 0.9686\n",
      "Epoch 85/100\n",
      "22/22 - 1s - loss: 0.0614 - accuracy: 0.9786\n",
      "Epoch 86/100\n",
      "22/22 - 1s - loss: 0.0572 - accuracy: 0.9771\n",
      "Epoch 87/100\n",
      "22/22 - 1s - loss: 0.0757 - accuracy: 0.9714\n",
      "Epoch 88/100\n",
      "22/22 - 1s - loss: 0.0603 - accuracy: 0.9829\n",
      "Epoch 89/100\n",
      "22/22 - 1s - loss: 0.0539 - accuracy: 0.9814\n",
      "Epoch 90/100\n",
      "22/22 - 1s - loss: 0.0864 - accuracy: 0.9714\n",
      "Epoch 91/100\n",
      "22/22 - 1s - loss: 0.0849 - accuracy: 0.9714\n",
      "Epoch 92/100\n",
      "22/22 - 1s - loss: 0.0750 - accuracy: 0.9743\n",
      "Epoch 93/100\n",
      "22/22 - 1s - loss: 0.0728 - accuracy: 0.9757\n",
      "Epoch 94/100\n",
      "22/22 - 1s - loss: 0.0536 - accuracy: 0.9871\n",
      "Epoch 95/100\n",
      "22/22 - 1s - loss: 0.0774 - accuracy: 0.9686\n",
      "Epoch 96/100\n",
      "22/22 - 1s - loss: 0.0479 - accuracy: 0.9814\n",
      "Epoch 97/100\n",
      "22/22 - 1s - loss: 0.0642 - accuracy: 0.9786\n",
      "Epoch 98/100\n",
      "22/22 - 1s - loss: 0.0934 - accuracy: 0.9614\n",
      "Epoch 99/100\n",
      "22/22 - 1s - loss: 0.0650 - accuracy: 0.9757\n",
      "Epoch 100/100\n",
      "22/22 - 1s - loss: 0.0957 - accuracy: 0.9629\n"
     ]
    }
   ],
   "source": [
    "history = model.fit(X_train, y_train, verbose=2, epochs=100)"
   ]
  },
  {
   "cell_type": "code",
   "execution_count": 114,
   "metadata": {},
   "outputs": [],
   "source": [
    "# Saves all the models for future reference\n",
    "\n",
    "version = 1\n",
    "modelDir = \"Model Versions/HandModelV\"\n",
    "\n",
    "while True:\n",
    "    try:\n",
    "        f = open(modelDir + str(version) + \".h5\", 'r')\n",
    "        f.close()\n",
    "        version = version + 1\n",
    "    except:\n",
    "        break\n",
    "    \n",
    "model.save(modelDir + str(version) + \".h5\")"
   ]
  },
  {
   "cell_type": "code",
   "execution_count": 124,
   "metadata": {},
   "outputs": [
    {
     "name": "stdout",
     "output_type": "stream",
     "text": [
      "(60, 100, 3)\n"
     ]
    }
   ],
   "source": [
    "print(X_test[0].shape)"
   ]
  },
  {
   "cell_type": "code",
   "execution_count": 115,
   "metadata": {},
   "outputs": [
    {
     "name": "stdout",
     "output_type": "stream",
     "text": [
      "Accuracy score: 0.9786324786324786\n"
     ]
    }
   ],
   "source": [
    "pred_hot = model.predict(X_test)\n",
    "\n",
    "pred = np.argmax(pred_hot, axis=1)\n",
    "\n",
    "y_compare = np.argmax(y_test, axis=1)\n",
    "\n",
    "score = metrics.accuracy_score(y_compare, pred)\n",
    "\n",
    "print(\"Accuracy score: {}\".format(score))\n",
    "\n",
    "#print(pred_hot[:5])\n",
    "#print(pred)"
   ]
  },
  {
   "cell_type": "code",
   "execution_count": 116,
   "metadata": {},
   "outputs": [
    {
     "data": {
      "image/png": "[encoded data removed]",
      "text/plain": [
       "<Figure size 432x288 with 1 Axes>"
      ]
     },
     "metadata": {
      "needs_background": "light"
     },
     "output_type": "display_data"
    }
   ],
   "source": [
    "plt.plot(history.history['loss'])\n",
    "plt.title('Model Loss')\n",
    "plt.ylabel('Loss')\n",
    "plt.xlabel('Epoch Number')\n",
    "plt.legend(['Train'], loc='upper left')\n",
    "plt.show()"
   ]
  },
  {
   "cell_type": "code",
   "execution_count": 117,
   "metadata": {},
   "outputs": [
    {
     "data": {
      "image/png": "[encoded data removed]",
      "text/plain": [
       "<Figure size 432x288 with 1 Axes>"
      ]
     },
     "metadata": {
      "needs_background": "light"
     },
     "output_type": "display_data"
    }
   ],
   "source": [
    "from matplotlib import pyplot as plt\n",
    "plt.plot(history.history['accuracy'])\n",
    "plt.title('Fruit Model Accuracy')\n",
    "plt.xlabel(\"Epoch number\")\n",
    "plt.ylabel(\"Accuracy\")\n",
    "plt.show()"
   ]
  },
  {
   "cell_type": "code",
   "execution_count": 118,
   "metadata": {},
   "outputs": [
    {
     "data": {
      "image/png": "[encoded data removed]",
      "text/plain": [
       "<Figure size 432x288 with 1 Axes>"
      ]
     },
     "metadata": {
      "needs_background": "light"
     },
     "output_type": "display_data"
    }
   ],
   "source": [
    "mat = confusion_matrix(pred, y_compare)\n",
    "\n",
    "sns.heatmap(mat, square=True, annot=True, cbar=False)\n",
    "plt.xlabel(\"Predicted Value\")\n",
    "plt.ylabel(\"Actual Value\")\n",
    "plt.show()"
   ]
  },
  {
   "cell_type": "code",
   "execution_count": null,
   "metadata": {},
   "outputs": [],
   "source": []
  }
 ],
 "metadata": {
  "kernelspec": {
   "display_name": "Python 3",
   "language": "python",
   "name": "python3"
  },
  "language_info": {
   "codemirror_mode": {
    "name": "ipython",
    "version": 3
   },
   "file_extension": ".py",
   "mimetype": "text/x-python",
   "name": "python",
   "nbconvert_exporter": "python",
   "pygments_lexer": "ipython3",
   "version": "3.6.2"
  }
 },
 "nbformat": 4,
 "nbformat_minor": 4
}
