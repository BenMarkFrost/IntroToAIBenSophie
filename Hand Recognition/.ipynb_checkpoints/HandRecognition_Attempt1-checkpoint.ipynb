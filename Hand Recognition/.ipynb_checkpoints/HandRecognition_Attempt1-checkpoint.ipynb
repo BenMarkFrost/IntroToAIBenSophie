{
 "cells": [
  {
   "cell_type": "code",
   "execution_count": 2,
   "metadata": {},
   "outputs": [],
   "source": [
    "import cv2\n",
    "import sklearn as sk\n",
    "import pandas as pd\n",
    "import numpy as np\n",
    "import matplotlib.pyplot as plt\n",
    "from tqdm import tqdm\n",
    "import os\n",
    "import imutils\n",
    "import random\n",
    "import tensorflow as tf\n",
    "from sklearn.model_selection import train_test_split\n",
    "from tensorflow.keras.models import Sequential\n",
    "import keras\n",
    "from tensorflow.keras.layers import Dense, Dropout, Activation, Flatten\n",
    "import tensorflow.keras.utils\n",
    "from tensorflow.keras.layers import Dense, Activation, Flatten, Dropout\n",
    "from tensorflow.keras.layers import Conv2D, MaxPooling2D\n",
    "from sklearn import metrics\n",
    "from sklearn.metrics import confusion_matrix"
   ]
  },
  {
   "cell_type": "code",
   "execution_count": 3,
   "metadata": {},
   "outputs": [],
   "source": [
    "cv2.setUseOptimized(True);\n",
    "cv2.setNumThreads(4);\n",
    "\n",
    "categories = [\"Hand\", \"NoHand\"]\n",
    "directory = \"../../../HandsData/\"\n",
    "imageWidth = 100"
   ]
  },
  {
   "cell_type": "code",
   "execution_count": 4,
   "metadata": {},
   "outputs": [
    {
     "name": "stderr",
     "output_type": "stream",
     "text": [
      "100%|████████████████████████████████████████████████████████████████████████████████| 633/633 [00:21<00:00, 29.11it/s]\n",
      "100%|████████████████████████████████████████████████████████████████████████████████| 166/166 [00:05<00:00, 29.38it/s]\n"
     ]
    }
   ],
   "source": [
    "X = []\n",
    "y = []\n",
    "\n",
    "for category in categories:\n",
    "    \n",
    "    path = directory + category\n",
    "    \n",
    "    for img in tqdm(os.listdir(path)[::3]):\n",
    "    \n",
    "        image = cv2.imread(path + \"/\" + img)\n",
    "        image = imutils.resize(image, width=imageWidth)\n",
    "        image = cv2.cvtColor(image, cv2.COLOR_BGR2RGB)\n",
    "        \n",
    "        X.append(image)\n",
    "        y.append(list(categories).index(category))\n",
    "        \n",
    "        \n"
   ]
  },
  {
   "cell_type": "code",
   "execution_count": 5,
   "metadata": {},
   "outputs": [],
   "source": [
    "# print(y)\n",
    "# print(X)"
   ]
  },
  {
   "cell_type": "code",
   "execution_count": 6,
   "metadata": {
    "scrolled": true
   },
   "outputs": [
    {
     "data": {
      "image/png": "[encoded data removed]",
      "text/plain": [
       "<Figure size 432x288 with 1 Axes>"
      ]
     },
     "metadata": {
      "needs_background": "light"
     },
     "output_type": "display_data"
    }
   ],
   "source": [
    "ss = cv2.ximgproc.segmentation.createSelectiveSearchSegmentation()\n",
    "\n",
    "firstImage = X[200].copy()\n",
    "\n",
    "displayedImage = firstImage.copy()\n",
    "\n",
    "ss.setBaseImage(firstImage)\n",
    "\n",
    "ss.switchToSelectiveSearchQuality()\n",
    "\n",
    "rects = ss.process()\n",
    "newImages = []\n",
    "\n",
    "for index, i in enumerate(rects):\n",
    "    x, y_, w, h = i\n",
    "    cv2.rectangle(displayedImage, (x, y_), (x+w, y_+h), (0,random.random()*255,0))\n",
    "    newImages.append(firstImage[y_:y_+h, x:x+w])\n",
    "\n",
    "plt.imshow(displayedImage)\n",
    "plt.show()"
   ]
  },
  {
   "cell_type": "code",
   "execution_count": 7,
   "metadata": {},
   "outputs": [
    {
     "name": "stdout",
     "output_type": "stream",
     "text": [
      "[[1. 0.]\n",
      " [1. 0.]\n",
      " [1. 0.]\n",
      " ...\n",
      " [0. 1.]\n",
      " [0. 1.]\n",
      " [0. 1.]]\n",
      "[[1. 0.]\n",
      " [1. 0.]\n",
      " [1. 0.]\n",
      " [1. 0.]\n",
      " [1. 0.]]\n",
      "[[66 75 79]\n",
      " [67 74 78]\n",
      " [69 77 77]\n",
      " [69 78 83]\n",
      " [69 78 82]]\n"
     ]
    }
   ],
   "source": [
    "#y = tf.keras.utils.to_categorical(np.asarray(y))\n",
    "y = tf.keras.utils.to_categorical(np.asarray(y))\n",
    "X = np.array(X).reshape(-1, 56, 100, 3)\n",
    "\n",
    "print(y)\n",
    "print(y[:5])\n",
    "print(X[0][0][:5])\n",
    "\n",
    "X_train, X_test, y_train, y_test = train_test_split(X, y, test_size=0.25, random_state=31)\n",
    "\n",
    "\n"
   ]
  },
  {
   "cell_type": "code",
   "execution_count": 8,
   "metadata": {},
   "outputs": [
    {
     "name": "stdout",
     "output_type": "stream",
     "text": [
      "Model: \"sequential\"\n",
      "_________________________________________________________________\n",
      "Layer (type)                 Output Shape              Param #   \n",
      "=================================================================\n",
      "conv2d (Conv2D)              (None, 54, 98, 16)        448       \n",
      "_________________________________________________________________\n",
      "max_pooling2d (MaxPooling2D) (None, 27, 49, 16)        0         \n",
      "_________________________________________________________________\n",
      "dropout (Dropout)            (None, 27, 49, 16)        0         \n",
      "_________________________________________________________________\n",
      "conv2d_1 (Conv2D)            (None, 25, 47, 32)        4640      \n",
      "_________________________________________________________________\n",
      "max_pooling2d_1 (MaxPooling2 (None, 12, 23, 32)        0         \n",
      "_________________________________________________________________\n",
      "dropout_1 (Dropout)          (None, 12, 23, 32)        0         \n",
      "_________________________________________________________________\n",
      "conv2d_2 (Conv2D)            (None, 10, 21, 64)        18496     \n",
      "_________________________________________________________________\n",
      "max_pooling2d_2 (MaxPooling2 (None, 5, 10, 64)         0         \n",
      "_________________________________________________________________\n",
      "dropout_2 (Dropout)          (None, 5, 10, 64)         0         \n",
      "_________________________________________________________________\n",
      "flatten (Flatten)            (None, 3200)              0         \n",
      "_________________________________________________________________\n",
      "dense (Dense)                (None, 256)               819456    \n",
      "_________________________________________________________________\n",
      "dropout_3 (Dropout)          (None, 256)               0         \n",
      "_________________________________________________________________\n",
      "dense_1 (Dense)              (None, 128)               32896     \n",
      "_________________________________________________________________\n",
      "dense_2 (Dense)              (None, 2)                 258       \n",
      "=================================================================\n",
      "Total params: 876,194\n",
      "Trainable params: 876,194\n",
      "Non-trainable params: 0\n",
      "_________________________________________________________________\n"
     ]
    }
   ],
   "source": [
    "model = Sequential()\n",
    "\n",
    "\n",
    "model.add(Conv2D(filters=16, kernel_size=(3, 3), activation='relu', input_shape=X.shape[1:]))\n",
    "model.add(MaxPooling2D())\n",
    "model.add(Dropout(0.5))\n",
    "\n",
    "model.add(Conv2D(filters=32, kernel_size=(3, 3), activation='relu'))\n",
    "model.add(MaxPooling2D())\n",
    "model.add(Dropout(0.5))\n",
    "\n",
    "model.add(Conv2D(filters=64, kernel_size=(3, 3), activation='relu'))\n",
    "model.add(MaxPooling2D())\n",
    "model.add(Dropout(0.5))\n",
    "\n",
    "model.add(Flatten())\n",
    "\n",
    "model.add(Dense(units=256, activation='relu'))\n",
    "model.add(Dropout(0.2))\n",
    "\n",
    "model.add(Dense(units=128, activation='relu'))\n",
    "\n",
    "model.add(Dense(units=2, activation = 'softmax'))\n",
    "\n",
    "model.compile(loss='categorical_crossentropy',\n",
    "              optimizer='adam',\n",
    "              metrics=['accuracy'])\n",
    "\n",
    "model.summary()\n",
    "\n",
    "#print(X_train, y_train)"
   ]
  },
  {
   "cell_type": "code",
   "execution_count": 9,
   "metadata": {},
   "outputs": [
    {
     "name": "stdout",
     "output_type": "stream",
     "text": [
      "(599, 56, 100, 3)\n",
      "[[0. 1.]\n",
      " [1. 0.]\n",
      " [1. 0.]\n",
      " ...\n",
      " [1. 0.]\n",
      " [1. 0.]\n",
      " [0. 1.]]\n"
     ]
    }
   ],
   "source": [
    "print(X_train.shape)\n",
    "print(y_train)"
   ]
  },
  {
   "cell_type": "code",
   "execution_count": 10,
   "metadata": {},
   "outputs": [
    {
     "name": "stdout",
     "output_type": "stream",
     "text": [
      "Epoch 1/20\n",
      "19/19 - 2s - loss: 32.7149 - accuracy: 0.6260\n",
      "Epoch 2/20\n",
      "19/19 - 1s - loss: 1.0565 - accuracy: 0.7329\n",
      "Epoch 3/20\n",
      "19/19 - 1s - loss: 0.6461 - accuracy: 0.7179\n",
      "Epoch 4/20\n",
      "19/19 - 1s - loss: 0.5843 - accuracy: 0.7679\n",
      "Epoch 5/20\n",
      "19/19 - 1s - loss: 0.5731 - accuracy: 0.7663\n",
      "Epoch 6/20\n",
      "19/19 - 1s - loss: 0.5428 - accuracy: 0.7763\n",
      "Epoch 7/20\n",
      "19/19 - 1s - loss: 0.5156 - accuracy: 0.7896\n",
      "Epoch 8/20\n",
      "19/19 - 1s - loss: 0.5413 - accuracy: 0.7880\n",
      "Epoch 9/20\n",
      "19/19 - 1s - loss: 0.4965 - accuracy: 0.7880\n",
      "Epoch 10/20\n",
      "19/19 - 1s - loss: 0.4786 - accuracy: 0.7880\n",
      "Epoch 11/20\n",
      "19/19 - 1s - loss: 0.4884 - accuracy: 0.7846\n",
      "Epoch 12/20\n",
      "19/19 - 1s - loss: 0.4384 - accuracy: 0.8063\n",
      "Epoch 13/20\n",
      "19/19 - 1s - loss: 0.4097 - accuracy: 0.8347\n",
      "Epoch 14/20\n",
      "19/19 - 1s - loss: 0.3826 - accuracy: 0.8114\n",
      "Epoch 15/20\n",
      "19/19 - 1s - loss: 0.3225 - accuracy: 0.8698\n",
      "Epoch 16/20\n",
      "19/19 - 1s - loss: 0.2749 - accuracy: 0.8932\n",
      "Epoch 17/20\n",
      "19/19 - 1s - loss: 0.2465 - accuracy: 0.8932\n",
      "Epoch 18/20\n",
      "19/19 - 1s - loss: 0.1911 - accuracy: 0.9199\n",
      "Epoch 19/20\n",
      "19/19 - 1s - loss: 0.2057 - accuracy: 0.9048\n",
      "Epoch 20/20\n",
      "19/19 - 1s - loss: 0.1647 - accuracy: 0.9432\n"
     ]
    }
   ],
   "source": [
    "history = model.fit(X_train, y_train, verbose=2, epochs=20)"
   ]
  },
  {
   "cell_type": "code",
   "execution_count": 11,
   "metadata": {},
   "outputs": [
    {
     "name": "stdout",
     "output_type": "stream",
     "text": [
      "Accuracy score: 0.99\n"
     ]
    }
   ],
   "source": [
    "pred_hot = model.predict(X_test)\n",
    "\n",
    "pred = np.argmax(pred_hot, axis=1)\n",
    "\n",
    "y_compare = np.argmax(y_test, axis=1)\n",
    "\n",
    "score = metrics.accuracy_score(y_compare, pred)\n",
    "\n",
    "print(\"Accuracy score: {}\".format(score))\n"
   ]
  },
  {
   "cell_type": "code",
   "execution_count": null,
   "metadata": {},
   "outputs": [],
   "source": []
  }
 ],
 "metadata": {
  "kernelspec": {
   "display_name": "Python 3",
   "language": "python",
   "name": "python3"
  },
  "language_info": {
   "codemirror_mode": {
    "name": "ipython",
    "version": 3
   },
   "file_extension": ".py",
   "mimetype": "text/x-python",
   "name": "python",
   "nbconvert_exporter": "python",
   "pygments_lexer": "ipython3",
   "version": "3.6.2"
  }
 },
 "nbformat": 4,
 "nbformat_minor": 4
}
