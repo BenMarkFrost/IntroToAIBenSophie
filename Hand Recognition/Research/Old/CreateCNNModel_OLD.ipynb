{
 "cells": [
  {
   "cell_type": "code",
   "execution_count": 3,
   "metadata": {},
   "outputs": [],
   "source": [
    "import cv2\n",
    "import sklearn as sk\n",
    "import pandas as pd\n",
    "import numpy as np\n",
    "import matplotlib.pyplot as plt\n",
    "from tqdm import tqdm\n",
    "import os\n",
    "import imutils\n",
    "import random\n",
    "import tensorflow as tf\n",
    "from sklearn.model_selection import train_test_split\n",
    "from tensorflow.keras.models import Sequential\n",
    "import keras\n",
    "from tensorflow.keras.layers import Dense, Dropout, Activation, Flatten\n",
    "import tensorflow.keras.utils\n",
    "from tensorflow.keras.layers import Dense, Activation, Flatten, Dropout\n",
    "from tensorflow.keras.layers import Conv2D, MaxPooling2D\n",
    "from sklearn import metrics\n",
    "from sklearn.metrics import confusion_matrix"
   ]
  },
  {
   "cell_type": "code",
   "execution_count": 43,
   "metadata": {
    "scrolled": true
   },
   "outputs": [
    {
     "name": "stderr",
     "output_type": "stream",
     "text": [
      "100%|██████████████████████████████████████████████████████████████████████████████| 317/317 [00:00<00:00, 1850.88it/s]\n",
      "100%|██████████████████████████████████████████████████████████████████████████████| 268/268 [00:00<00:00, 1786.08it/s]\n"
     ]
    }
   ],
   "source": [
    "X = []\n",
    "y = []\n",
    "\n",
    "categories = [\"one\", \"zero\"]\n",
    "\n",
    "dataDirectory = \"../../../../HandsData/OpenCVHandsData/\"\n",
    "\n",
    "for category in categories:\n",
    "    path = dataDirectory + category\n",
    "    for data in tqdm(os.listdir(path)):\n",
    "#         f = open(path + '/' + data, 'r')\n",
    "#         X.append(f.read())\n",
    "#         y.append(category)\n",
    "#         f.close()\n",
    "\n",
    "        with open(path + '/' + data, 'rb') as f:\n",
    "            res = np.load(f)\n",
    "            hull = np.load(f)\n",
    "            \n",
    "            X.append(np.concatenate([res, hull]).ravel())\n",
    "            y.append(category)\n",
    "            "
   ]
  },
  {
   "cell_type": "code",
   "execution_count": 45,
   "metadata": {},
   "outputs": [
    {
     "name": "stdout",
     "output_type": "stream",
     "text": [
      "[472 165 469 168 470]\n"
     ]
    }
   ],
   "source": [
    "X = np.asarray(X).flatten().ravel()\n",
    "print(X[150][:5])"
   ]
  },
  {
   "cell_type": "code",
   "execution_count": 46,
   "metadata": {},
   "outputs": [
    {
     "name": "stdout",
     "output_type": "stream",
     "text": [
      "[561 217 560 218 559 218 558 219 557 219 557 220 556 221 559 221 560 222\n",
      " 560 223 558 225 557 225 556 224 555 225 552 225 551 226 550 226 551 227\n",
      " 550 228 549 228 548 227 546 227 545 226 544 226 543 225 542 225 541 226\n",
      " 540 226 540 230 539 231 538 231 537 230 536 231 535 230 534 230 533 229\n",
      " 532 229 532 231 531 232 532 233 531 234 529 234 528 233 529 234 528 235\n",
      " 527 235 526 234 526 233 525 232 524 232 523 231 520 231 519 232 518 232\n",
      " 517 231 515 231 514 230 513 230 512 231 511 231 508 234 500 234 499 235\n",
      " 498 235 498 237 496 239 496 240 495 241 496 242 496 245 495 246 495 247\n",
      " 496 248 496 250 495 251 495 254 496 255 496 256 497 257 497 258 498 259\n",
      " 497 260 497 265 498 266 497 267 498 268 498 270 497 271 497 273 499 275\n",
      " 500 275 501 276 501 277 502 278 501 279 501 282 499 284 496 284 496 291\n",
      " 495 292 495 295 496 296 493 299 491 299 492 300 492 301 491 302 490 301\n",
      " 490 302 488 304 488 309 487 310 487 311 486 312 486 313 483 316 483 317\n",
      " 482 318 482 321 481 322 481 323 480 324 480 329 479 330 479 332 480 333\n",
      " 479 334 479 337 480 338 480 339 479 340 478 340 477 341 476 340 475 341\n",
      " 475 345 476 346 475 347 475 350 476 351 476 352 477 353 476 354 474 354\n",
      " 472 356 471 356 471 358 473 360 473 362 472 363 472 365 468 369 468 373\n",
      " 467 374 467 375 466 376 464 376 466 378 466 381 465 382 465 385 467 385\n",
      " 469 387 471 387 470 386 470 384 469 383 469 379 472 376 472 375 474 373\n",
      " 474 371 473 370 474 369 474 368 475 367 475 365 476 364 476 360 478 358\n",
      " 478 357 479 356 479 355 480 354 480 352 481 351 481 348 482 347 482 346\n",
      " 484 344 484 341 488 337 488 335 489 334 489 333 491 331 491 330 493 328\n",
      " 493 327 495 325 495 323 496 322 496 321 498 319 498 318 500 316 500 315\n",
      " 501 314 501 312 502 311 502 303 503 302 503 297 504 296 504 292 505 291\n",
      " 505 290 506 289 506 281 507 280 507 276 508 275 508 274 509 273 509 267\n",
      " 508 266 508 259 511 256 512 256 515 253 516 253 517 252 518 252 519 251\n",
      " 524 251 525 250 541 250 542 249 545 249 546 250 547 250 549 252 549 253\n",
      " 550 254 545 259 545 260 544 261 543 261 542 260 541 260 540 259 539 259\n",
      " 538 258 537 258 536 257 530 257 529 256 525 256 524 257 523 257 520 260\n",
      " 520 261 519 262 519 264 524 269 524 270 525 271 525 272 528 275 528 276\n",
      " 530 278 530 279 531 280 531 281 533 283 533 285 534 285 534 284 535 283\n",
      " 535 282 537 280 538 280 539 279 543 279 544 278 545 278 546 279 557 279\n",
      " 559 281 559 285 560 286 559 287 559 288 558 289 558 292 557 293 557 294\n",
      " 556 295 556 298 552 302 552 303 550 305 549 305 547 307 546 307 542 311\n",
      " 533 311 533 313 531 315 531 316 530 317 530 320 531 321 531 322 529 324\n",
      " 529 325 528 326 528 330 527 331 527 333 526 334 526 338 524 340 524 342\n",
      " 522 344 522 346 520 348 520 349 519 350 519 352 518 353 518 355 513 360\n",
      " 513 362 512 363 512 366 513 365 513 364 514 363 514 361 515 360 515 359\n",
      " 517 357 517 356 520 353 520 351 521 350 521 349 522 348 522 347 523 346\n",
      " 523 345 525 343 525 339 526 338 527 338 527 337 530 334 530 331 531 330\n",
      " 531 329 532 328 532 327 533 326 533 325 534 324 535 324 539 320 540 320\n",
      " 544 316 544 315 547 312 548 312 550 310 551 310 553 308 554 308 555 307\n",
      " 556 307 558 305 559 305 559 304 561 302 561 301 565 297 565 296 566 295\n",
      " 566 294 568 292 568 291 569 290 569 287 572 284 572 281 573 280 573 279\n",
      " 574 278 574 277 575 276 575 272 574 271 575 270 575 269 576 268 576 267\n",
      " 577 266 577 265 579 263 579 262 580 261 580 260 583 257 583 253 584 252\n",
      " 584 249 585 248 585 246 583 244 583 243 579 239 578 239 577 238 573 238\n",
      " 572 237 571 237 568 234 568 231 567 230 567 228 568 227 568 226 569 225\n",
      " 569 221 568 220 568 218 567 217 567 217 568 218 585 246 585 248 583 257\n",
      " 572 284 568 292 565 297 559 305 513 365 512 366 471 387 469 387 465 385\n",
      " 464 376 495 241 498 235 500 234 513 230 561 217]\n"
     ]
    }
   ],
   "source": [
    "X_train, X_test, y_train, y_test = train_test_split(X, y, test_size=0.25, random_state=31)\n",
    "\n",
    "print(X_train[10])"
   ]
  },
  {
   "cell_type": "code",
   "execution_count": 47,
   "metadata": {},
   "outputs": [
    {
     "data": {
      "text/plain": [
       "(585,)"
      ]
     },
     "execution_count": 47,
     "metadata": {},
     "output_type": "execute_result"
    }
   ],
   "source": [
    "X.shape"
   ]
  },
  {
   "cell_type": "code",
   "execution_count": 50,
   "metadata": {},
   "outputs": [
    {
     "ename": "TypeError",
     "evalue": "'int' object is not iterable",
     "output_type": "error",
     "traceback": [
      "\u001b[1;31m---------------------------------------------------------------------------\u001b[0m",
      "\u001b[1;31mTypeError\u001b[0m                                 Traceback (most recent call last)",
      "\u001b[1;32m<ipython-input-50-6c55ff1a76a9>\u001b[0m in \u001b[0;36m<module>\u001b[1;34m\u001b[0m\n\u001b[0;32m      2\u001b[0m \u001b[1;33m\u001b[0m\u001b[0m\n\u001b[0;32m      3\u001b[0m \u001b[1;33m\u001b[0m\u001b[0m\n\u001b[1;32m----> 4\u001b[1;33m \u001b[0mmodel\u001b[0m\u001b[1;33m.\u001b[0m\u001b[0madd\u001b[0m\u001b[1;33m(\u001b[0m\u001b[0mConv2D\u001b[0m\u001b[1;33m(\u001b[0m\u001b[0mfilters\u001b[0m\u001b[1;33m=\u001b[0m\u001b[1;36m16\u001b[0m\u001b[1;33m,\u001b[0m \u001b[0mkernel_size\u001b[0m\u001b[1;33m=\u001b[0m\u001b[1;33m(\u001b[0m\u001b[1;36m3\u001b[0m\u001b[1;33m,\u001b[0m \u001b[1;36m3\u001b[0m\u001b[1;33m)\u001b[0m\u001b[1;33m,\u001b[0m \u001b[0mactivation\u001b[0m\u001b[1;33m=\u001b[0m\u001b[1;34m'relu'\u001b[0m\u001b[1;33m,\u001b[0m \u001b[0minput_shape\u001b[0m\u001b[1;33m=\u001b[0m\u001b[0mX\u001b[0m\u001b[1;33m.\u001b[0m\u001b[0mshape\u001b[0m\u001b[1;33m[\u001b[0m\u001b[1;36m0\u001b[0m\u001b[1;33m]\u001b[0m\u001b[1;33m)\u001b[0m\u001b[1;33m)\u001b[0m\u001b[1;33m\u001b[0m\u001b[0m\n\u001b[0m\u001b[0;32m      5\u001b[0m \u001b[0mmodel\u001b[0m\u001b[1;33m.\u001b[0m\u001b[0madd\u001b[0m\u001b[1;33m(\u001b[0m\u001b[0mMaxPooling2D\u001b[0m\u001b[1;33m(\u001b[0m\u001b[1;33m)\u001b[0m\u001b[1;33m)\u001b[0m\u001b[1;33m\u001b[0m\u001b[0m\n\u001b[0;32m      6\u001b[0m \u001b[0mmodel\u001b[0m\u001b[1;33m.\u001b[0m\u001b[0madd\u001b[0m\u001b[1;33m(\u001b[0m\u001b[0mDropout\u001b[0m\u001b[1;33m(\u001b[0m\u001b[1;36m0.5\u001b[0m\u001b[1;33m)\u001b[0m\u001b[1;33m)\u001b[0m\u001b[1;33m\u001b[0m\u001b[0m\n",
      "\u001b[1;32m~\\anaconda3\\lib\\site-packages\\tensorflow\\python\\keras\\layers\\convolutional.py\u001b[0m in \u001b[0;36m__init__\u001b[1;34m(self, filters, kernel_size, strides, padding, data_format, dilation_rate, groups, activation, use_bias, kernel_initializer, bias_initializer, kernel_regularizer, bias_regularizer, activity_regularizer, kernel_constraint, bias_constraint, **kwargs)\u001b[0m\n\u001b[0;32m    669\u001b[0m         \u001b[0mkernel_constraint\u001b[0m\u001b[1;33m=\u001b[0m\u001b[0mconstraints\u001b[0m\u001b[1;33m.\u001b[0m\u001b[0mget\u001b[0m\u001b[1;33m(\u001b[0m\u001b[0mkernel_constraint\u001b[0m\u001b[1;33m)\u001b[0m\u001b[1;33m,\u001b[0m\u001b[1;33m\u001b[0m\u001b[0m\n\u001b[0;32m    670\u001b[0m         \u001b[0mbias_constraint\u001b[0m\u001b[1;33m=\u001b[0m\u001b[0mconstraints\u001b[0m\u001b[1;33m.\u001b[0m\u001b[0mget\u001b[0m\u001b[1;33m(\u001b[0m\u001b[0mbias_constraint\u001b[0m\u001b[1;33m)\u001b[0m\u001b[1;33m,\u001b[0m\u001b[1;33m\u001b[0m\u001b[0m\n\u001b[1;32m--> 671\u001b[1;33m         **kwargs)\n\u001b[0m\u001b[0;32m    672\u001b[0m \u001b[1;33m\u001b[0m\u001b[0m\n\u001b[0;32m    673\u001b[0m \u001b[1;33m\u001b[0m\u001b[0m\n",
      "\u001b[1;32m~\\anaconda3\\lib\\site-packages\\tensorflow\\python\\keras\\layers\\convolutional.py\u001b[0m in \u001b[0;36m__init__\u001b[1;34m(self, rank, filters, kernel_size, strides, padding, data_format, dilation_rate, groups, activation, use_bias, kernel_initializer, bias_initializer, kernel_regularizer, bias_regularizer, activity_regularizer, kernel_constraint, bias_constraint, trainable, name, conv_op, **kwargs)\u001b[0m\n\u001b[0;32m    136\u001b[0m         \u001b[0mname\u001b[0m\u001b[1;33m=\u001b[0m\u001b[0mname\u001b[0m\u001b[1;33m,\u001b[0m\u001b[1;33m\u001b[0m\u001b[0m\n\u001b[0;32m    137\u001b[0m         \u001b[0mactivity_regularizer\u001b[0m\u001b[1;33m=\u001b[0m\u001b[0mregularizers\u001b[0m\u001b[1;33m.\u001b[0m\u001b[0mget\u001b[0m\u001b[1;33m(\u001b[0m\u001b[0mactivity_regularizer\u001b[0m\u001b[1;33m)\u001b[0m\u001b[1;33m,\u001b[0m\u001b[1;33m\u001b[0m\u001b[0m\n\u001b[1;32m--> 138\u001b[1;33m         **kwargs)\n\u001b[0m\u001b[0;32m    139\u001b[0m     \u001b[0mself\u001b[0m\u001b[1;33m.\u001b[0m\u001b[0mrank\u001b[0m \u001b[1;33m=\u001b[0m \u001b[0mrank\u001b[0m\u001b[1;33m\u001b[0m\u001b[0m\n\u001b[0;32m    140\u001b[0m \u001b[1;33m\u001b[0m\u001b[0m\n",
      "\u001b[1;32m~\\anaconda3\\lib\\site-packages\\tensorflow\\python\\training\\tracking\\base.py\u001b[0m in \u001b[0;36m_method_wrapper\u001b[1;34m(self, *args, **kwargs)\u001b[0m\n\u001b[0;32m    515\u001b[0m     \u001b[0mself\u001b[0m\u001b[1;33m.\u001b[0m\u001b[0m_self_setattr_tracking\u001b[0m \u001b[1;33m=\u001b[0m \u001b[1;32mFalse\u001b[0m  \u001b[1;31m# pylint: disable=protected-access\u001b[0m\u001b[1;33m\u001b[0m\u001b[0m\n\u001b[0;32m    516\u001b[0m     \u001b[1;32mtry\u001b[0m\u001b[1;33m:\u001b[0m\u001b[1;33m\u001b[0m\u001b[0m\n\u001b[1;32m--> 517\u001b[1;33m       \u001b[0mresult\u001b[0m \u001b[1;33m=\u001b[0m \u001b[0mmethod\u001b[0m\u001b[1;33m(\u001b[0m\u001b[0mself\u001b[0m\u001b[1;33m,\u001b[0m \u001b[1;33m*\u001b[0m\u001b[0margs\u001b[0m\u001b[1;33m,\u001b[0m \u001b[1;33m**\u001b[0m\u001b[0mkwargs\u001b[0m\u001b[1;33m)\u001b[0m\u001b[1;33m\u001b[0m\u001b[0m\n\u001b[0m\u001b[0;32m    518\u001b[0m     \u001b[1;32mfinally\u001b[0m\u001b[1;33m:\u001b[0m\u001b[1;33m\u001b[0m\u001b[0m\n\u001b[0;32m    519\u001b[0m       \u001b[0mself\u001b[0m\u001b[1;33m.\u001b[0m\u001b[0m_self_setattr_tracking\u001b[0m \u001b[1;33m=\u001b[0m \u001b[0mprevious_value\u001b[0m  \u001b[1;31m# pylint: disable=protected-access\u001b[0m\u001b[1;33m\u001b[0m\u001b[0m\n",
      "\u001b[1;32m~\\anaconda3\\lib\\site-packages\\tensorflow\\python\\keras\\engine\\base_layer.py\u001b[0m in \u001b[0;36m__init__\u001b[1;34m(self, trainable, name, dtype, dynamic, **kwargs)\u001b[0m\n\u001b[0;32m    427\u001b[0m         \u001b[1;32melse\u001b[0m\u001b[1;33m:\u001b[0m\u001b[1;33m\u001b[0m\u001b[0m\n\u001b[0;32m    428\u001b[0m           \u001b[0mbatch_size\u001b[0m \u001b[1;33m=\u001b[0m \u001b[1;32mNone\u001b[0m\u001b[1;33m\u001b[0m\u001b[0m\n\u001b[1;32m--> 429\u001b[1;33m         \u001b[0mbatch_input_shape\u001b[0m \u001b[1;33m=\u001b[0m \u001b[1;33m(\u001b[0m\u001b[0mbatch_size\u001b[0m\u001b[1;33m,\u001b[0m\u001b[1;33m)\u001b[0m \u001b[1;33m+\u001b[0m \u001b[0mtuple\u001b[0m\u001b[1;33m(\u001b[0m\u001b[0mkwargs\u001b[0m\u001b[1;33m[\u001b[0m\u001b[1;34m'input_shape'\u001b[0m\u001b[1;33m]\u001b[0m\u001b[1;33m)\u001b[0m\u001b[1;33m\u001b[0m\u001b[0m\n\u001b[0m\u001b[0;32m    430\u001b[0m       \u001b[0mself\u001b[0m\u001b[1;33m.\u001b[0m\u001b[0m_batch_input_shape\u001b[0m \u001b[1;33m=\u001b[0m \u001b[0mbatch_input_shape\u001b[0m\u001b[1;33m\u001b[0m\u001b[0m\n\u001b[0;32m    431\u001b[0m \u001b[1;33m\u001b[0m\u001b[0m\n",
      "\u001b[1;31mTypeError\u001b[0m: 'int' object is not iterable"
     ]
    }
   ],
   "source": [
    "model = Sequential()\n",
    "\n",
    "\n",
    "model.add(Conv2D(filters=16, kernel_size=(3, 3), activation='relu', input_shape=X.shape[0]))\n",
    "model.add(MaxPooling2D())\n",
    "model.add(Dropout(0.5))\n",
    "\n",
    "model.add(Conv2D(filters=32, kernel_size=(3, 3), activation='relu'))\n",
    "model.add(MaxPooling2D())\n",
    "model.add(Dropout(0.5))\n",
    "\n",
    "model.add(Conv2D(filters=64, kernel_size=(3, 3), activation='relu'))\n",
    "model.add(MaxPooling2D())\n",
    "model.add(Dropout(0.5))\n",
    "\n",
    "model.add(Flatten())\n",
    "\n",
    "model.add(Dense(units=256, activation='relu'))\n",
    "model.add(Dropout(0.2))\n",
    "\n",
    "model.add(Dense(units=128, activation='relu'))\n",
    "\n",
    "model.add(Dense(units=2, activation = 'softmax'))\n",
    "\n",
    "model.compile(loss='categorical_crossentropy',\n",
    "              optimizer='adam',\n",
    "              metrics=['accuracy'])\n",
    "\n",
    "model.summary()\n",
    "\n",
    "#print(X_train, y_train)"
   ]
  },
  {
   "cell_type": "code",
   "execution_count": null,
   "metadata": {},
   "outputs": [],
   "source": []
  }
 ],
 "metadata": {
  "kernelspec": {
   "display_name": "Python 3",
   "language": "python",
   "name": "python3"
  },
  "language_info": {
   "codemirror_mode": {
    "name": "ipython",
    "version": 3
   },
   "file_extension": ".py",
   "mimetype": "text/x-python",
   "name": "python",
   "nbconvert_exporter": "python",
   "pygments_lexer": "ipython3",
   "version": "3.6.2"
  }
 },
 "nbformat": 4,
 "nbformat_minor": 4
}
