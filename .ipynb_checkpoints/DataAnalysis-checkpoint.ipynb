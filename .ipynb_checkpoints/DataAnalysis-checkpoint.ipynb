{
 "cells": [
  {
   "cell_type": "code",
   "execution_count": null,
   "metadata": {
    "scrolled": true
   },
   "outputs": [],
   "source": [
    "# for i in range(2):\n",
    "#     print(\"Attempt \" + str(i+1))\n",
    "#     try:\n",
    "#         import os\n",
    "#         import cv2\n",
    "#         import numpy as np\n",
    "#         import sklearn as sk\n",
    "#         import tqdm\n",
    "#         import matplotlib.pyplot as plt\n",
    "#         print(\"Library imports successful\")\n",
    "#         break\n",
    "#     except:\n",
    "#         print(\"Attempting library installs\")\n",
    "#         !pip install opencv-python\n",
    "#         !pip install numpy\n",
    "#         !pip install sklearn\n",
    "\n",
    "import os\n",
    "import cv2\n",
    "import numpy as np\n",
    "import sklearn as sk\n",
    "from tqdm import tqdm\n",
    "import matplotlib.pyplot as plt\n"
   ]
  },
  {
   "cell_type": "code",
   "execution_count": null,
   "metadata": {
    "pycharm": {
     "name": "#%%\n"
    }
   },
   "outputs": [],
   "source": [
    "import sklearn"
   ]
  },
  {
   "cell_type": "code",
   "execution_count": null,
   "metadata": {
    "pycharm": {
     "name": "#%%\n"
    }
   },
   "outputs": [],
   "source": [
    "categories = {'Apple':\"Apple/Apple A/\", \"Banana\":\"Banana/\"}\n",
    "dataDirectory = \"../../Data/archive/\"\n",
    "apples = \"Apple/Apple A/\"\n",
    "\n",
    "sizeX = 480\n",
    "sizeY = 322"
   ]
  },
  {
   "cell_type": "code",
   "execution_count": null,
   "metadata": {},
   "outputs": [],
   "source": [
    "img_apple = cv2.imread(dataDirectory + apples + \"Apple 1.png\")\n",
    "\n",
    "def show(img):\n",
    "    img = cv2.cvtColor(img, cv2.COLOR_BGR2RGB)\n",
    "    plt.imshow(img)\n",
    "\n",
    "show(img_apple)"
   ]
  },
  {
   "cell_type": "code",
   "execution_count": null,
   "metadata": {},
   "outputs": [],
   "source": [
    "def createTrainingSet(categories):\n",
    "    \n",
    "    trainingData = []\n",
    "    \n",
    "    for fruitCategory in categories:\n",
    "        \n",
    "        path = dataDirectory + categories.get(fruitCategory)\n",
    "        \n",
    "        for img in tqdm(os.listdir(path)):\n",
    "            \n",
    "            try:\n",
    "                \n",
    "                img_array = cv2.imread(path + img)\n",
    "                resized_array = cv2.resize(img_array, (sizeX, sizeY))\n",
    "                trainingData.append([resized_array, fruitCategory])\n",
    "                \n",
    "            except:\n",
    "                \n",
    "                print(\"Could not find \" + path + img)\n",
    "    \n",
    "    return trainingData"
   ]
  },
  {
   "cell_type": "code",
   "execution_count": null,
   "metadata": {},
   "outputs": [],
   "source": [
    "\n",
    "trainingData = createTrainingSet(categories)"
   ]
  },
  {
   "cell_type": "code",
   "execution_count": null,
   "metadata": {
    "scrolled": true
   },
   "outputs": [],
   "source": [
    "trainingData[len(trainingData)-1]"
   ]
  },
  {
   "cell_type": "code",
   "execution_count": null,
   "metadata": {},
   "outputs": [],
   "source": [
    "show(trainingData[0][0])"
   ]
  },
  {
   "cell_type": "code",
   "execution_count": null,
   "metadata": {},
   "outputs": [],
   "source": [
    "X = []\n",
    "Y = []\n",
    "\n",
    "for entry in trainingData:\n",
    "    X.append(entry[0])\n",
    "    Y.append(entry[1])\n",
    "    \n",
    "Y = np.asarray(Y)\n",
    "\n",
    "print(Y.shape)\n",
    "\n",
    "X = np.array(X).reshape(-1, sizeX, sizeY, 3)\n",
    "X = X/255.0"
   ]
  },
  {
   "cell_type": "code",
   "execution_count": null,
   "metadata": {},
   "outputs": [],
   "source": [
    "import tensorflow as tf\n",
    "from tensorflow.keras.datasets import cifar10\n",
    "from tensorflow.keras.preprocessing.image import ImageDataGenerator\n",
    "from tensorflow.keras.models import Sequential\n",
    "from tensorflow.keras.layers import Dense, Dropout, Activation, Flatten\n",
    "from tensorflow.keras.layers import Conv2D, AveragePooling2D"
   ]
  },
  {
   "cell_type": "code",
   "execution_count": null,
   "metadata": {},
   "outputs": [],
   "source": [
    "model = Sequential()\n",
    "\n",
    "model.add(Conv2D(filters = 16, kernel_size=(3,3), activation = 'relu', input_shape= X.shape[1:]))\n",
    "model.add(AveragePooling2D())\n",
    "model.add(Dropout(0.5))\n",
    "\n",
    "model.add(Flatten())\n",
    "\n",
    "model.compile(loss='sparse_categorical_crossentropy', optimizer='adam', metrics=['accuracy'])\n",
    "\n",
    "model.summary()"
   ]
  },
  {
   "cell_type": "code",
   "execution_count": null,
   "metadata": {},
   "outputs": [],
   "source": [
    "history = model.fit(X, Y, batch_size=32, epochs=1, validation_split=0.3)"
   ]
  },
  {
   "cell_type": "code",
   "execution_count": null,
   "metadata": {},
   "outputs": [],
   "source": []
  }
 ],
 "metadata": {
  "kernelspec": {
   "display_name": "Python 3",
   "language": "python",
   "name": "python3"
  },
  "language_info": {
   "codemirror_mode": {
    "name": "ipython",
    "version": 3
   },
   "file_extension": ".py",
   "mimetype": "text/x-python",
   "name": "python",
   "nbconvert_exporter": "python",
   "pygments_lexer": "ipython3",
   "version": "3.8.5"
  }
 },
 "nbformat": 4,
 "nbformat_minor": 1
}
