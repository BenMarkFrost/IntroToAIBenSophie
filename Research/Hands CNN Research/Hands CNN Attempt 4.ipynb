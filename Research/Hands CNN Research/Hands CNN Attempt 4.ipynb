{
 "cells": [
  {
   "cell_type": "markdown",
   "metadata": {},
   "source": [
    "## Hand Recognition CNN\n",
    "\n",
    "IN3062\n",
    "(Hand Rec CNN 1)"
   ]
  },
  {
   "cell_type": "code",
   "execution_count": 1,
   "metadata": {},
   "outputs": [],
   "source": [
    "import pickle\n",
    "import numpy as np\n",
    "import tensorflow as tf\n",
    "import tensorflow.keras.utils\n",
    "from tensorflow.keras.models import Sequential\n",
    "from tensorflow.keras.layers import Dense, Dropout, Activation, Flatten, Conv2D, MaxPooling2D"
   ]
  },
  {
   "cell_type": "code",
   "execution_count": 2,
   "metadata": {},
   "outputs": [
    {
     "name": "stdout",
     "output_type": "stream",
     "text": [
      "read successfully!\n"
     ]
    }
   ],
   "source": [
    "# reading in training data\n",
    "X = pickle.load(open(\"X.pickle\",\"rb\"))\n",
    "y = pickle.load(open(\"y.pickle\",\"rb\"))\n",
    "\n",
    "X = np.array(X/255.0)\n",
    "y = np.array(y)\n",
    "\n",
    "print(\"read successfully!\")"
   ]
  },
  {
   "cell_type": "code",
   "execution_count": 3,
   "metadata": {},
   "outputs": [
    {
     "name": "stdout",
     "output_type": "stream",
     "text": [
      "Epoch 1/6\n",
      "26/26 [==============================] - 1s 22ms/step - loss: 0.3862 - accuracy: 0.7748 - val_loss: 0.1396 - val_accuracy: 0.8824\n",
      "Epoch 2/6\n",
      "26/26 [==============================] - 0s 15ms/step - loss: 0.0650 - accuracy: 0.9669 - val_loss: 0.0042 - val_accuracy: 1.0000\n",
      "Epoch 3/6\n",
      "26/26 [==============================] - 0s 15ms/step - loss: 0.0027 - accuracy: 1.0000 - val_loss: 0.0010 - val_accuracy: 1.0000\n",
      "Epoch 4/6\n",
      "26/26 [==============================] - 0s 15ms/step - loss: 7.1552e-04 - accuracy: 1.0000 - val_loss: 5.0793e-04 - val_accuracy: 1.0000\n",
      "Epoch 5/6\n",
      "26/26 [==============================] - 0s 15ms/step - loss: 4.0775e-04 - accuracy: 1.0000 - val_loss: 3.3331e-04 - val_accuracy: 1.0000\n",
      "Epoch 6/6\n",
      "26/26 [==============================] - 0s 14ms/step - loss: 2.9889e-04 - accuracy: 1.0000 - val_loss: 2.5215e-04 - val_accuracy: 1.0000\n",
      "\n",
      "completed successfully!!!!!\n"
     ]
    }
   ],
   "source": [
    "# CNN!!\n",
    "\n",
    "model = Sequential()  # model type\n",
    "\n",
    "# EXAMPLE LAYER\n",
    "# model.add(Conv2D(64, (3,3), input_shape = X.shape[1:]))\n",
    "# model.add(Activation(\"relu\"))\n",
    "# model.add(MaxPooling2D(pl_size=(2,2)))\n",
    "\n",
    "# model.add(layertype(units, (window size), input shape (_ by _ by _))\n",
    "\n",
    "# l1\n",
    "model.add(Conv2D(64, (3,3), input_shape = X.shape[1:]))\n",
    "model.add(Activation(\"relu\"))\n",
    "model.add(MaxPooling2D(pool_size=(2,2)))\n",
    "\n",
    "# l2\n",
    "model.add(Conv2D(64, (3,3)))\n",
    "model.add(Activation(\"relu\"))\n",
    "model.add(MaxPooling2D(pool_size=(2,2)))\n",
    "\n",
    "# l3\n",
    "model.add(Flatten())  # flattening image from 2D to 1D\n",
    "model.add(Dense(64))\n",
    "\n",
    "# output layer\n",
    "model.add(Dense(1))\n",
    "model.add(Activation('sigmoid'))\n",
    "\n",
    "model.compile(loss=\"binary_crossentropy\", optimizer=\"adam\", metrics=['accuracy'])\n",
    "\n",
    "# model.fit(X, y, how many to pass at a time=num, num times to work through training set, out of sample data=%)\n",
    "model.fit(X, y, batch_size=6, epochs=6, validation_split=0.1)\n",
    "\n",
    "print(\"\\ncompleted successfully!!!!!\")"
   ]
  }
 ],
 "metadata": {
  "kernelspec": {
   "display_name": "Python 3",
   "language": "python",
   "name": "python3"
  },
  "language_info": {
   "codemirror_mode": {
    "name": "ipython",
    "version": 3
   },
   "file_extension": ".py",
   "mimetype": "text/x-python",
   "name": "python",
   "nbconvert_exporter": "python",
   "pygments_lexer": "ipython3",
   "version": "3.8.3"
  }
 },
 "nbformat": 4,
 "nbformat_minor": 4
}
