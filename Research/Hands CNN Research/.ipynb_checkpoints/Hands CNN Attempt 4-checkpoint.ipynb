{
 "cells": [
  {
   "cell_type": "markdown",
   "metadata": {},
   "source": [
    "## Hand Recognition CNN\n",
    "\n",
    "IN3062"
   ]
  },
  {
   "cell_type": "markdown",
   "metadata": {},
   "source": [
    "This notebook classifies the data, loading in the trains from X.pickle and y.pickle, created in 'Hands CNN Set Up.ipynb'."
   ]
  },
  {
   "cell_type": "code",
   "execution_count": 1,
   "metadata": {},
   "outputs": [],
   "source": [
    "import pickle\n",
    "import numpy as np\n",
    "import matplotlib.pyplot as plt\n",
    "import tensorflow as tf\n",
    "import tensorflow.keras.utils\n",
    "from tensorflow.keras.models import Sequential\n",
    "from tensorflow.keras.layers import Dense, Dropout, Activation, Flatten, Conv2D, MaxPooling2D"
   ]
  },
  {
   "cell_type": "code",
   "execution_count": 2,
   "metadata": {},
   "outputs": [
    {
     "name": "stdout",
     "output_type": "stream",
     "text": [
      "read successfully!\n"
     ]
    }
   ],
   "source": [
    "# reading in training data\n",
    "\n",
    "X = pickle.load(open(\"X.pickle\",\"rb\"))\n",
    "y = pickle.load(open(\"y.pickle\",\"rb\"))\n",
    "\n",
    "X = np.array(X/255.0)\n",
    "y = np.array(y)\n",
    "\n",
    "print(\"read successfully!\")"
   ]
  },
  {
   "cell_type": "code",
   "execution_count": 3,
   "metadata": {},
   "outputs": [
    {
     "name": "stdout",
     "output_type": "stream",
     "text": [
      "Epoch 1/18\n",
      "58/58 [==============================] - 1s 16ms/step - loss: 0.6866 - accuracy: 0.5347 - val_loss: 0.5657 - val_accuracy: 0.6935\n",
      "Epoch 2/18\n",
      "58/58 [==============================] - 1s 14ms/step - loss: 0.3620 - accuracy: 0.8526 - val_loss: 0.2014 - val_accuracy: 0.9032\n",
      "Epoch 3/18\n",
      "58/58 [==============================] - 1s 14ms/step - loss: 0.0817 - accuracy: 0.9682 - val_loss: 0.0387 - val_accuracy: 0.9839\n",
      "Epoch 4/18\n",
      "58/58 [==============================] - 1s 14ms/step - loss: 0.0186 - accuracy: 0.9971 - val_loss: 0.0062 - val_accuracy: 1.0000\n",
      "Epoch 5/18\n",
      "58/58 [==============================] - 1s 15ms/step - loss: 0.0049 - accuracy: 1.0000 - val_loss: 0.0024 - val_accuracy: 1.0000\n",
      "Epoch 6/18\n",
      "58/58 [==============================] - 1s 15ms/step - loss: 0.0022 - accuracy: 1.0000 - val_loss: 0.0024 - val_accuracy: 1.0000\n",
      "Epoch 7/18\n",
      "58/58 [==============================] - 1s 14ms/step - loss: 0.0019 - accuracy: 1.0000 - val_loss: 0.0011 - val_accuracy: 1.0000\n",
      "Epoch 8/18\n",
      "58/58 [==============================] - 1s 15ms/step - loss: 9.8515e-04 - accuracy: 1.0000 - val_loss: 7.0229e-04 - val_accuracy: 1.0000\n",
      "Epoch 9/18\n",
      "58/58 [==============================] - 1s 15ms/step - loss: 7.1710e-04 - accuracy: 1.0000 - val_loss: 6.0590e-04 - val_accuracy: 1.0000\n",
      "Epoch 10/18\n",
      "58/58 [==============================] - 1s 16ms/step - loss: 5.7763e-04 - accuracy: 1.0000 - val_loss: 5.0167e-04 - val_accuracy: 1.0000\n",
      "Epoch 11/18\n",
      "58/58 [==============================] - 1s 14ms/step - loss: 4.3658e-04 - accuracy: 1.0000 - val_loss: 3.1337e-04 - val_accuracy: 1.0000\n",
      "Epoch 12/18\n",
      "58/58 [==============================] - 1s 14ms/step - loss: 3.7580e-04 - accuracy: 1.0000 - val_loss: 2.6742e-04 - val_accuracy: 1.0000\n",
      "Epoch 13/18\n",
      "58/58 [==============================] - 1s 14ms/step - loss: 2.9923e-04 - accuracy: 1.0000 - val_loss: 2.1775e-04 - val_accuracy: 1.0000\n",
      "Epoch 14/18\n",
      "58/58 [==============================] - 1s 14ms/step - loss: 2.5029e-04 - accuracy: 1.0000 - val_loss: 2.2996e-04 - val_accuracy: 1.0000\n",
      "Epoch 15/18\n",
      "58/58 [==============================] - 1s 13ms/step - loss: 2.2879e-04 - accuracy: 1.0000 - val_loss: 1.6604e-04 - val_accuracy: 1.0000\n",
      "Epoch 16/18\n",
      "58/58 [==============================] - 1s 13ms/step - loss: 1.8547e-04 - accuracy: 1.0000 - val_loss: 1.5226e-04 - val_accuracy: 1.0000\n",
      "Epoch 17/18\n",
      "58/58 [==============================] - 1s 14ms/step - loss: 1.7011e-04 - accuracy: 1.0000 - val_loss: 1.2483e-04 - val_accuracy: 1.0000\n",
      "Epoch 18/18\n",
      "58/58 [==============================] - 1s 14ms/step - loss: 1.4760e-04 - accuracy: 1.0000 - val_loss: 9.8467e-05 - val_accuracy: 1.0000\n",
      "\n",
      "completed successfully!!!!!\n"
     ]
    }
   ],
   "source": [
    "# CNN!!\n",
    "\n",
    "model = Sequential()  # model type\n",
    "\n",
    "# EXAMPLE LAYER\n",
    "# model.add(Conv2D(64, (3,3), input_shape = X.shape[1:]))\n",
    "# model.add(Activation(\"relu\"))\n",
    "# model.add(MaxPooling2D(pl_size=(2,2)))\n",
    "\n",
    "# model.add(layertype(units, (window size), input shape (_ by _ by _))\n",
    "\n",
    "# l1\n",
    "model.add(Conv2D(64, (3,3), input_shape = X.shape[1:]))\n",
    "model.add(Activation(\"relu\"))\n",
    "model.add(MaxPooling2D(pool_size=(2,2)))\n",
    "\n",
    "# l2\n",
    "model.add(Conv2D(64, (3,3)))\n",
    "model.add(Activation(\"relu\"))\n",
    "model.add(MaxPooling2D(pool_size=(2,2)))\n",
    "\n",
    "# l3\n",
    "model.add(Flatten())  # flattening image from 2D to 1D\n",
    "model.add(Dense(64))\n",
    "\n",
    "# output layer\n",
    "model.add(Dense(1))\n",
    "model.add(Activation('sigmoid'))\n",
    "\n",
    "model.compile(loss=\"binary_crossentropy\", optimizer=\"adam\", metrics=['accuracy'])\n",
    "\n",
    "# model.fit(X, y, how many to pass at a time=num, num times to work through training set, out of sample data=%)\n",
    "history = model.fit(X, y, batch_size=6, epochs=18, validation_split=0.15)\n",
    "\n",
    "print(\"\\ncompleted successfully!!!!!\")"
   ]
  },
  {
   "cell_type": "code",
   "execution_count": 4,
   "metadata": {},
   "outputs": [
    {
     "data": {
      "image/png": "[encoded data removed]",
      "text/plain": [
       "<Figure size 432x288 with 1 Axes>"
      ]
     },
     "metadata": {
      "needs_background": "light"
     },
     "output_type": "display_data"
    }
   ],
   "source": [
    "# model loss graph\n",
    "\n",
    "plt.plot(history.history['loss'])\n",
    "plt.title('Model Loss')\n",
    "plt.ylabel('Loss')\n",
    "plt.xlabel('Epoch Number')\n",
    "plt.show()"
   ]
  },
  {
   "cell_type": "code",
   "execution_count": 5,
   "metadata": {},
   "outputs": [
    {
     "data": {
      "image/png": "[encoded data removed]",
      "text/plain": [
       "<Figure size 432x288 with 1 Axes>"
      ]
     },
     "metadata": {
      "needs_background": "light"
     },
     "output_type": "display_data"
    }
   ],
   "source": [
    "# model accuracy graph\n",
    "\n",
    "plt.plot(history.history['accuracy'])\n",
    "plt.title('Model Accuracy')\n",
    "plt.xlabel(\"Epoch Number\")\n",
    "plt.ylabel(\"Accuracy\")\n",
    "plt.show()"
   ]
  }
 ],
 "metadata": {
  "kernelspec": {
   "display_name": "Python 3",
   "language": "python",
   "name": "python3"
  },
  "language_info": {
   "codemirror_mode": {
    "name": "ipython",
    "version": 3
   },
   "file_extension": ".py",
   "mimetype": "text/x-python",
   "name": "python",
   "nbconvert_exporter": "python",
   "pygments_lexer": "ipython3",
   "version": "3.8.3"
  }
 },
 "nbformat": 4,
 "nbformat_minor": 4
}
