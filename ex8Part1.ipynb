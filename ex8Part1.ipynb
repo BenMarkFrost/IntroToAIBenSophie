{
  "nbformat": 4,
  "nbformat_minor": 0,
  "metadata": {
    "kernelspec": {
      "display_name": "Python 3",
      "language": "python",
      "name": "python3"
    },
    "language_info": {
      "codemirror_mode": {
        "name": "ipython",
        "version": 3
      },
      "file_extension": ".py",
      "mimetype": "text/x-python",
      "name": "python",
      "nbconvert_exporter": "python",
      "pygments_lexer": "ipython3",
      "version": "3.8.3"
    },
    "colab": {
      "name": "ex8Part1.ipynb",
      "provenance": []
    }
  },
  "cells": [
    {
      "cell_type": "markdown",
      "metadata": {
        "id": "eo0va1n5uZxU"
      },
      "source": [
        "# Tutorial 8 (Introduction to AI)\n",
        "\n",
        "# Convolutional Neural Networks"
      ]
    },
    {
      "cell_type": "markdown",
      "metadata": {
        "id": "R1-IPCLKuZxU"
      },
      "source": [
        "# Part 1"
      ]
    },
    {
      "cell_type": "markdown",
      "metadata": {
        "id": "0vqgkBSPuZxU"
      },
      "source": [
        "In this tutorial we will build a convolutional neural network (CNN) to recognise the small 8x8 digit images from SciKit-Learn, which we have used in several exercises already.\n",
        "\n",
        "CNNs set up a series of convolutions, structurally a series of filters that apply to images.  The results of applying these is then reduced in size using pooling layers, before the results is passed to one or more standard fully connected feedforward layers.\n",
        "\n",
        "The network is then trained using labelled data using backpropagation as normal.  The result of training these deep networks is to learn values for both the standard fully connected feedforward layers and for the filters defined in the convolutional layers."
      ]
    },
    {
      "cell_type": "markdown",
      "metadata": {
        "id": "7LLsksiguZxU"
      },
      "source": [
        "First of all, load libraries that will be used throughout this tutorial."
      ]
    },
    {
      "cell_type": "code",
      "metadata": {
        "id": "ncEjFhBCuZxU"
      },
      "source": [
        "from sklearn.datasets import load_digits\n",
        "import tensorflow as tf\n",
        "import os\n",
        "import matplotlib.pyplot as plt\n",
        "import numpy as np\n",
        "import tensorflow.keras.utils\n",
        "from tensorflow.keras.models import Sequential\n",
        "from tensorflow.keras.layers import Dense, Activation, Flatten, Dropout\n",
        "from tensorflow.keras.layers import Conv2D, MaxPooling2D\n",
        "import io\n",
        "from sklearn import metrics\n",
        "from sklearn.model_selection import train_test_split\n",
        "from sklearn.metrics import confusion_matrix\n",
        "import seaborn as sns"
      ],
      "execution_count": 12,
      "outputs": []
    },
    {
      "cell_type": "markdown",
      "metadata": {
        "id": "tAHaI_39uZxV"
      },
      "source": [
        "Next, load the dataset.  In this exercise we are working directly with the images, not the flattened pixels given by digits.data that we have used previously.  \n",
        "\n",
        "We are building a classifier, so the output is a class.  As we have seen previously, classes are dealt with in neural network by using a one-hot encoding to labels, and this is achieved below using the Keras builtin. "
      ]
    },
    {
      "cell_type": "code",
      "metadata": {
        "id": "Ik3BTmnuuZxV"
      },
      "source": [
        "#load the digits dataset from sklearn\n",
        "digits = load_digits()\n",
        "\n",
        "X = digits.images \n",
        "y = digits.target\n",
        "\n",
        "#use the keras built in to ensure the targets are categories\n",
        "y = tensorflow.keras.utils.to_categorical(y)\n",
        "\n",
        "#if you want to check what this looks like, uncomment the below\n",
        "#print(X[:5])\n",
        "#print(y[:5])"
      ],
      "execution_count": 2,
      "outputs": []
    },
    {
      "cell_type": "markdown",
      "metadata": {
        "id": "ZMeyKoIXuZxW"
      },
      "source": [
        "As usual, the data is split into training and testing.  \n",
        "\n",
        "As we shall see shortly, the neural network expects a tensor as an input.  Colour images are typically presented as RGB (or HSV) values, so each pixel is a triple, hence the data is in three dimensions.  Here we are working with greyscale images, but the image structure still needs to be a tensor.  Hence below the dimension is raised (essentially putting each greyscale pixel value into a list)."
      ]
    },
    {
      "cell_type": "code",
      "metadata": {
        "colab": {
          "base_uri": "https://localhost:8080/"
        },
        "id": "2IrDD71tuZxW",
        "outputId": "0e5ad9db-67c1-4077-afef-bd11e40b80e8"
      },
      "source": [
        "#split into training and testing data\n",
        "X_train, X_test, y_train, y_test = train_test_split(X,y,test_size=0.25,random_state=42)\n",
        "\n",
        "#2d matrix\n",
        "print(X_train[0][0])\n",
        "\n",
        "X_train = np.expand_dims(X_train, axis=3)\n",
        "X_test = np.expand_dims(X_test, axis=3)\n",
        "\n",
        "#3d tensor\n",
        "print(X_train[0][0])"
      ],
      "execution_count": 3,
      "outputs": [
        {
          "output_type": "stream",
          "text": [
            "[ 0.  0.  2. 15. 15. 16. 11.  0.]\n",
            "[[ 0.]\n",
            " [ 0.]\n",
            " [ 2.]\n",
            " [15.]\n",
            " [15.]\n",
            " [16.]\n",
            " [11.]\n",
            " [ 0.]]\n"
          ],
          "name": "stdout"
        }
      ]
    },
    {
      "cell_type": "markdown",
      "metadata": {
        "id": "SBgixpLpuZxW"
      },
      "source": [
        "Convolutional neural networks can have quite a high number of parameters, so in some cases you might want to gather together values in a definitions section.  Here we have just three."
      ]
    },
    {
      "cell_type": "code",
      "metadata": {
        "id": "BF-J-IhEuZxW"
      },
      "source": [
        "num_classes = y.shape[1]\n",
        "save_dir = './' \n",
        "model_name = 'ex8Part1_trained_model.h5'"
      ],
      "execution_count": 4,
      "outputs": []
    },
    {
      "cell_type": "markdown",
      "metadata": {
        "id": "9lP-N7ZOuZxW"
      },
      "source": [
        "A convolutional neural network in Keras is defined with the Sequential framework.\n",
        "\n",
        "These deep networks are not fully connected as in the ones we have studied in previous weeks, but apply local connectivity to capture patterns in the data without an explosion in weight parameters to be optimised.\n",
        "\n",
        "The structure of the networks involves the interleaving of several different kinds of layer: convolutional layers, pooling layers, flattening layers, and standard feed-forward layers.  Each of these have parameters.\n",
        "\n",
        "The convolution layer needs to set the following (see Keras documentation for the full list):\n",
        "- number of filter\n",
        "- filter size (kernel_size)\n",
        "- strides \n",
        "- padding\n",
        "- input shape (the dimensionality of the input tensor)\n",
        "\n",
        "The convolution layer here is Conv2D, since we are looking at 2D (greyscale) images.\n",
        "\n",
        "In the code below, the Activation function is given explicitly, but this could also be expressed as a parameter of Conv2D (and ReLU is the usual function for image classification).  The number of filters is set to 32, each with size 3 x 3, stride length will be 1, and padding set to 'same' so that the output size is equal to the input size.\n",
        "\n",
        "After one or more Convolution layers, a pooling layer is applied.  Max pooling is currently the most popular pooling method for image classification.  The pooling layer reduces dimensionality by aggregating the output of the Convolution layer over a small window, typically 2 x 2.  This is set with:\n",
        "- pool_size\n",
        "\n",
        "Notice that the pooling layer does not have any weights to be tuned.\n",
        "\n",
        "There might be several Convolution layers followed by pooling layers.  \n",
        "\n",
        "After these, the rest of the network consists of standard feed forward layers with the final layer having a number of nodes equal to the number of classes, with a softmax activation function.  These layers are preceeded a call to Flatten to turn the tensor back into a vector.\n",
        "\n",
        "That is, the standard feedforward layers consist of:\n",
        "- flatten \n",
        "- Dense (one or more)\n",
        "- softmax for output\n",
        "\n",
        "Dropout might be applied."
      ]
    },
    {
      "cell_type": "code",
      "metadata": {
        "id": "nGpCodwVuZxW"
      },
      "source": [
        "model = Sequential()\n",
        "model.add(Conv2D(32, kernel_size=(3, 3), strides=1, padding='same', input_shape= (8,8,1)))\n",
        "model.add(Activation('relu'))\n",
        "model.add(MaxPooling2D(pool_size=(2, 2)))\n",
        "\n",
        "model.add(Flatten())\n",
        "model.add(Dense(128))\n",
        "model.add(Activation('relu'))\n",
        "model.add(Dense(num_classes))\n",
        "model.add(Activation('softmax'))"
      ],
      "execution_count": 5,
      "outputs": []
    },
    {
      "cell_type": "markdown",
      "metadata": {
        "id": "BXvWT-26uZxW"
      },
      "source": [
        "The model is then set up.  Here, categorical cross-entropy is used as the error function, and  the optimizer is Adam, our first choice.  We will observe accuracy as well as loss when we train this network.\n",
        "\n",
        "Let's inspect the model and its parameters with model.summary().  Observe the number of parameters.\n",
        "\n",
        "Each filter has 3 x 3 + 1 parameters (+1 for bias).  Here with 32 filters there are 320 parameters.\n",
        "\n",
        "Each filter is applied to the input, meaning that the output from the Convolution layer has the following number of values: 32 x 8 x 8 = $2^{11}$\n",
        "\n",
        "Pooling reduces this by 2 x 2 = 4, so $2^9$ values.  \n",
        "\n",
        "The outputs are flattened, and with the standard fully-connected Dense layer having 128 = $2^7$ nodes, there's $2^{16}$, plus 128 biases, parameters.  That is, 65664.  \n",
        "\n",
        "Finally there are 128 outputs from the feedforward layer, and with ten softmax output layer nodes, plus biases, there are 1290 parameters."
      ]
    },
    {
      "cell_type": "code",
      "metadata": {
        "colab": {
          "base_uri": "https://localhost:8080/"
        },
        "id": "leqYoxQ5uZxW",
        "outputId": "fe289e87-db9c-483f-abd3-9b6cb886df19"
      },
      "source": [
        "model.compile(loss='categorical_crossentropy',\n",
        "              optimizer='adam',\n",
        "              metrics=['accuracy'])\n",
        "\n",
        "model.summary()"
      ],
      "execution_count": 6,
      "outputs": [
        {
          "output_type": "stream",
          "text": [
            "Model: \"sequential\"\n",
            "_________________________________________________________________\n",
            "Layer (type)                 Output Shape              Param #   \n",
            "=================================================================\n",
            "conv2d (Conv2D)              (None, 8, 8, 32)          320       \n",
            "_________________________________________________________________\n",
            "activation (Activation)      (None, 8, 8, 32)          0         \n",
            "_________________________________________________________________\n",
            "max_pooling2d (MaxPooling2D) (None, 4, 4, 32)          0         \n",
            "_________________________________________________________________\n",
            "flatten (Flatten)            (None, 512)               0         \n",
            "_________________________________________________________________\n",
            "dense (Dense)                (None, 128)               65664     \n",
            "_________________________________________________________________\n",
            "activation_1 (Activation)    (None, 128)               0         \n",
            "_________________________________________________________________\n",
            "dense_1 (Dense)              (None, 10)                1290      \n",
            "_________________________________________________________________\n",
            "activation_2 (Activation)    (None, 10)                0         \n",
            "=================================================================\n",
            "Total params: 67,274\n",
            "Trainable params: 67,274\n",
            "Non-trainable params: 0\n",
            "_________________________________________________________________\n"
          ],
          "name": "stdout"
        }
      ]
    },
    {
      "cell_type": "markdown",
      "metadata": {
        "id": "u5r4kgzYuZxW"
      },
      "source": [
        "Now let's train this.  Here, for 24 epochs.  (It is suggested that both here and above, you experiment with changes to the parameters.) \n",
        "\n",
        "Notice that we've set history equal to the return value of the fit() method that gives the intermediate training data which will be used below to plot changes through training."
      ]
    },
    {
      "cell_type": "code",
      "metadata": {
        "colab": {
          "base_uri": "https://localhost:8080/"
        },
        "id": "fExX7gczuZxW",
        "outputId": "f5a1d142-9c9a-4ba6-83cd-3d5064da071b"
      },
      "source": [
        "history = model.fit(X_train,y_train,verbose=2,epochs=24)"
      ],
      "execution_count": 7,
      "outputs": [
        {
          "output_type": "stream",
          "text": [
            "Epoch 1/24\n",
            "43/43 - 0s - loss: 0.8424 - accuracy: 0.7654\n",
            "Epoch 2/24\n",
            "43/43 - 0s - loss: 0.1836 - accuracy: 0.9540\n",
            "Epoch 3/24\n",
            "43/43 - 0s - loss: 0.1356 - accuracy: 0.9644\n",
            "Epoch 4/24\n",
            "43/43 - 0s - loss: 0.0763 - accuracy: 0.9792\n",
            "Epoch 5/24\n",
            "43/43 - 0s - loss: 0.0444 - accuracy: 0.9881\n",
            "Epoch 6/24\n",
            "43/43 - 0s - loss: 0.0322 - accuracy: 0.9955\n",
            "Epoch 7/24\n",
            "43/43 - 0s - loss: 0.0225 - accuracy: 0.9955\n",
            "Epoch 8/24\n",
            "43/43 - 0s - loss: 0.0165 - accuracy: 0.9978\n",
            "Epoch 9/24\n",
            "43/43 - 0s - loss: 0.0124 - accuracy: 0.9985\n",
            "Epoch 10/24\n",
            "43/43 - 0s - loss: 0.0091 - accuracy: 1.0000\n",
            "Epoch 11/24\n",
            "43/43 - 0s - loss: 0.0098 - accuracy: 0.9993\n",
            "Epoch 12/24\n",
            "43/43 - 0s - loss: 0.0074 - accuracy: 0.9993\n",
            "Epoch 13/24\n",
            "43/43 - 0s - loss: 0.0055 - accuracy: 1.0000\n",
            "Epoch 14/24\n",
            "43/43 - 0s - loss: 0.0044 - accuracy: 1.0000\n",
            "Epoch 15/24\n",
            "43/43 - 0s - loss: 0.0035 - accuracy: 1.0000\n",
            "Epoch 16/24\n",
            "43/43 - 0s - loss: 0.0033 - accuracy: 1.0000\n",
            "Epoch 17/24\n",
            "43/43 - 0s - loss: 0.0030 - accuracy: 1.0000\n",
            "Epoch 18/24\n",
            "43/43 - 0s - loss: 0.0021 - accuracy: 1.0000\n",
            "Epoch 19/24\n",
            "43/43 - 0s - loss: 0.0021 - accuracy: 1.0000\n",
            "Epoch 20/24\n",
            "43/43 - 0s - loss: 0.0018 - accuracy: 1.0000\n",
            "Epoch 21/24\n",
            "43/43 - 0s - loss: 0.0024 - accuracy: 1.0000\n",
            "Epoch 22/24\n",
            "43/43 - 0s - loss: 0.0015 - accuracy: 1.0000\n",
            "Epoch 23/24\n",
            "43/43 - 0s - loss: 0.0014 - accuracy: 1.0000\n",
            "Epoch 24/24\n",
            "43/43 - 0s - loss: 0.0011 - accuracy: 1.0000\n"
          ],
          "name": "stdout"
        }
      ]
    },
    {
      "cell_type": "markdown",
      "metadata": {
        "id": "SNfJltGzuZxW"
      },
      "source": [
        "This has quite quickly fitted itself to the training data, giving 100% accuracy, and the loss is low (if still dropping).  Now we use the trained CNN to make predictions, and test accuracy.  This is gives our best result yet on this dataset."
      ]
    },
    {
      "cell_type": "code",
      "metadata": {
        "colab": {
          "base_uri": "https://localhost:8080/"
        },
        "id": "ZnPgvioIuZxW",
        "outputId": "a2314dc9-6509-4697-e5f1-685e12f253f2"
      },
      "source": [
        "#make predictions (will give a probability distribution)\n",
        "pred_hot = model.predict(X_test)\n",
        "#now pick the most likely outcome\n",
        "pred = np.argmax(pred_hot,axis=1)\n",
        "y_compare = np.argmax(y_test,axis=1) \n",
        "#calculate accuracy\n",
        "score = metrics.accuracy_score(y_compare, pred)\n",
        "\n",
        "print(\"Accuracy score: {}\".format(score))\n",
        "\n",
        "print(pred_hot[:5])\n",
        "print(pred)"
      ],
      "execution_count": 8,
      "outputs": [
        {
          "output_type": "stream",
          "text": [
            "Accuracy score: 0.9933333333333333\n",
            "[[8.4278571e-07 4.8946218e-05 9.1224761e-09 8.0525492e-10 2.2164734e-06\n",
            "  1.5118899e-06 9.9993801e-01 6.2811991e-09 8.4295089e-06 1.4150932e-08]\n",
            " [1.4163849e-08 6.3586475e-10 5.9866506e-10 7.5267906e-07 5.0735537e-07\n",
            "  1.1826616e-03 2.5575945e-12 1.6724056e-07 1.5379111e-08 9.9881589e-01]\n",
            " [1.0551892e-12 7.6203800e-12 1.3786297e-09 1.0000000e+00 2.0175261e-11\n",
            "  6.4285164e-09 1.2300101e-10 1.0440917e-09 8.2145171e-09 1.4558739e-08]\n",
            " [1.6366462e-04 5.8478253e-07 5.5106011e-06 1.1418529e-06 5.4747954e-05\n",
            "  5.1399315e-04 1.1373356e-07 9.9799854e-01 3.8874685e-05 1.2228007e-03]\n",
            " [2.4108328e-07 9.0562082e-08 9.9994230e-01 8.7920043e-06 4.0241002e-11\n",
            "  7.4090942e-11 1.5322448e-07 2.0145816e-09 4.8393533e-05 3.5995509e-11]]\n",
            "[6 9 3 7 2 1 5 2 5 2 1 9 4 0 4 2 3 7 8 8 4 3 9 7 5 6 3 5 6 3 4 9 1 4 4 6 9\n",
            " 4 7 6 6 9 1 3 6 1 3 0 6 5 5 1 9 5 6 0 9 0 0 1 0 4 5 2 4 5 7 0 7 5 9 5 5 4\n",
            " 7 0 4 5 5 9 9 0 2 3 8 0 6 4 4 9 1 2 8 3 5 2 9 0 4 4 4 3 5 3 1 3 5 9 4 2 7\n",
            " 7 4 4 1 9 2 7 8 7 2 6 9 4 0 7 2 7 5 8 7 5 7 7 0 6 6 4 2 8 0 9 4 6 9 9 6 9\n",
            " 0 5 5 6 6 0 6 4 3 9 3 9 7 2 9 0 4 5 3 6 5 9 9 8 4 2 1 3 7 7 2 2 3 9 8 0 3\n",
            " 2 2 5 6 9 9 4 1 5 4 2 3 6 4 8 5 9 5 7 1 9 4 8 1 5 4 4 9 6 1 8 6 0 4 5 2 7\n",
            " 4 6 4 5 6 0 3 2 3 6 7 1 5 1 4 7 6 8 8 5 5 1 5 2 8 8 9 9 7 6 2 2 2 3 4 8 8\n",
            " 3 6 0 9 7 7 0 1 0 4 5 1 5 3 6 0 4 1 0 0 3 6 5 9 7 3 5 5 9 9 8 5 3 3 2 0 5\n",
            " 8 3 4 0 2 4 6 4 3 4 5 0 5 2 1 3 1 4 1 1 7 0 1 5 2 1 2 8 7 0 6 4 8 8 5 1 8\n",
            " 4 5 8 7 9 8 5 0 6 2 0 7 9 8 9 5 2 7 7 1 8 7 4 3 8 3 5 6 0 0 3 0 5 0 0 4 1\n",
            " 2 8 4 5 9 6 3 1 8 8 4 2 3 8 9 8 8 5 0 6 3 3 7 1 6 4 1 2 1 1 6 4 7 4 8 3 4\n",
            " 0 5 1 9 4 5 7 6 3 7 0 5 9 7 5 9 7 4 2 1 9 0 7 5 3 3 6 3 9 6 9 5 0 1 5 5 8\n",
            " 3 3 6 2 6 5]\n"
          ],
          "name": "stdout"
        }
      ]
    },
    {
      "cell_type": "markdown",
      "metadata": {
        "id": "aKSqjS6RuZxW"
      },
      "source": [
        "Remember that the output is one-hot encoding.  The call to argmax turns this back to a number (and will be used in a moment to produce a confusion matrix)."
      ]
    },
    {
      "cell_type": "markdown",
      "metadata": {
        "id": "WFZiCUdvuZxW"
      },
      "source": [
        "Before we do that, we plot how loss changes with each training epoch."
      ]
    },
    {
      "cell_type": "code",
      "metadata": {
        "colab": {
          "base_uri": "https://localhost:8080/",
          "height": 295
        },
        "id": "C22GbZlduZxW",
        "outputId": "295ce018-b8a0-4af7-9453-f90e62682a86"
      },
      "source": [
        "# Plot training & validation loss values\n",
        "plt.plot(history.history['loss'])\n",
        "plt.title('Model loss')\n",
        "plt.ylabel('Loss')\n",
        "plt.xlabel('Epoch')\n",
        "plt.legend(['Train'], loc='upper left')\n",
        "plt.show()"
      ],
      "execution_count": 9,
      "outputs": [
        {
          "output_type": "display_data",
          "data": {
            "image/png": "[encoded data removed]",
            "text/plain": [
              "<Figure size 432x288 with 1 Axes>"
            ]
          },
          "metadata": {
            "tags": [],
            "needs_background": "light"
          }
        }
      ]
    },
    {
      "cell_type": "markdown",
      "metadata": {
        "id": "2a3rgcRduZxW"
      },
      "source": [
        "Now we give the confusion matrix for the testing."
      ]
    },
    {
      "cell_type": "code",
      "metadata": {
        "colab": {
          "base_uri": "https://localhost:8080/",
          "height": 279
        },
        "id": "uZa7BZLQuZxW",
        "outputId": "45403261-6330-4266-da28-c79209a13408"
      },
      "source": [
        "mat = confusion_matrix(pred, y_compare)\n",
        "\n",
        "#using seaborn \n",
        "sns.heatmap(mat, square=True, annot=True, cbar=False)\n",
        "plt.xlabel('predicted value')\n",
        "plt.ylabel('true value');"
      ],
      "execution_count": 10,
      "outputs": [
        {
          "output_type": "display_data",
          "data": {
            "image/png": "[encoded data removed]",
            "text/plain": [
              "<Figure size 432x288 with 1 Axes>"
            ]
          },
          "metadata": {
            "tags": [],
            "needs_background": "light"
          }
        }
      ]
    },
    {
      "cell_type": "markdown",
      "metadata": {
        "id": "goRWRWt-uZxW"
      },
      "source": [
        "Finally, save the model for future use."
      ]
    },
    {
      "cell_type": "code",
      "metadata": {
        "colab": {
          "base_uri": "https://localhost:8080/"
        },
        "id": "03d6q1zyuZxW",
        "outputId": "57c3cbea-e437-4c4a-cd2e-377e351719e0"
      },
      "source": [
        "# Save model and weights\n",
        "model_path = os.path.join(save_dir, model_name)\n",
        "model.save(model_path)\n",
        "print('Saved trained model at %s ' % model_path)"
      ],
      "execution_count": 11,
      "outputs": [
        {
          "output_type": "stream",
          "text": [
            "Saved trained model at ./ex8Part1_trained_model.h5 \n"
          ],
          "name": "stdout"
        }
      ]
    },
    {
      "cell_type": "code",
      "metadata": {
        "id": "aZB8WnlTuZxW"
      },
      "source": [
        ""
      ],
      "execution_count": 11,
      "outputs": []
    }
  ]
}